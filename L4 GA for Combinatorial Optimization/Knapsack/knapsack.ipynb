{
 "cells": [
  {
   "cell_type": "markdown",
   "metadata": {
    "collapsed": true,
    "pycharm": {
     "name": "#%% md\n"
    }
   },
   "source": [
    "# Problema de la mochila\n",
    "## Definición de la función"
   ]
  },
  {
   "cell_type": "code",
   "execution_count": 36,
   "outputs": [],
   "source": [
    "import numpy as np\n",
    "\n",
    "MOCHILA = 1\n",
    "K_PENALIZACION = 20\n",
    "\n",
    "def evaluar(peso: np.ndarray, valor: np.ndarray):\n",
    "    exceso = MOCHILA - peso\n",
    "    evaluacion = valor.copy()\n",
    "    evaluacion[exceso < 0] = evaluacion[exceso < 0] - np.abs(evaluacion[exceso < 0] * exceso[exceso < 0]) - K_PENALIZACION\n",
    "    return evaluacion"
   ],
   "metadata": {
    "collapsed": false,
    "pycharm": {
     "name": "#%%\n"
    }
   }
  },
  {
   "cell_type": "markdown",
   "source": [
    "## Definición de cromosoma\n",
    "Se compone de una lista que representa los objetos que lleva"
   ],
   "metadata": {
    "collapsed": false
   }
  },
  {
   "cell_type": "code",
   "execution_count": 37,
   "outputs": [],
   "source": [
    "NUM_OBJETOS = 20\n",
    "VALORES = np.random.randint(low=1, high=101, size=NUM_OBJETOS)\n",
    "PESOS = np.random.random(size=NUM_OBJETOS)      # Puede regresar 0\n",
    "PESOS[PESOS == 0] = 0.1\n",
    "\n",
    "class Cromosoma:\n",
    "    \"\"\"\n",
    "    Se conforma por una lista que sirve como índice lógico para PESOS y VALORES\n",
    "    \"\"\"\n",
    "    def __init__(self, objetos = None):\n",
    "        if objetos is None:\n",
    "            self.list = np.random.choice([0, 1], size=NUM_OBJETOS)\n",
    "        else:\n",
    "            self.list = objetos\n",
    "\n",
    "    def __str__(self):\n",
    "        return str(self.list)\n",
    "\n",
    "\n",
    "    def get_peso(self):\n",
    "        return np.sum(PESOS[self.list == 1])\n",
    "\n",
    "    def get_valor(self):\n",
    "        return np.sum(VALORES[self.list == 1])\n",
    "\n",
    "    @staticmethod\n",
    "    def crossover(c1, c2):\n",
    "        mitad = int(NUM_OBJETOS / 2)\n",
    "        l1 = np.append(c1.list[0:mitad], c2.list[mitad:], axis=None)\n",
    "        l2 = np.append(c2.list[0:mitad], c1.list[mitad:], axis=None)\n",
    "        return [Cromosoma(l1), Cromosoma(l2)]\n",
    "\n",
    "    @staticmethod\n",
    "    def mutar(c):\n",
    "        index = np.random.randint(low=0, high=NUM_OBJETOS)\n",
    "        c.list[index] = 1 - c.list[index]\n"
   ],
   "metadata": {
    "collapsed": false,
    "pycharm": {
     "name": "#%%\n"
    }
   }
  },
  {
   "cell_type": "markdown",
   "source": [
    "## Definición de presión selectiva"
   ],
   "metadata": {
    "collapsed": false
   }
  },
  {
   "cell_type": "code",
   "execution_count": 38,
   "outputs": [],
   "source": [
    "K_POBLACION = 8\n",
    "K_BASE = 2\n",
    "K_PROBABILIDAD_MUTACION = 0.5\n",
    "\n",
    "def presion_selectiva(poblacion: list[Cromosoma]) -> list[Cromosoma]:\n",
    "    # Evaluación y búsqueda del mejor\n",
    "    c_pesos = np.array([c.get_peso() for c in poblacion])\n",
    "    c_valores = np.array([c.get_valor() for c in poblacion])\n",
    "    evaluacion = evaluar(c_pesos, c_valores)\n",
    "\n",
    "    best = evaluacion.argmax()\n",
    "    print(\"Best so far:\")\n",
    "    print(f\"Combination: {poblacion[best]}\")\n",
    "    print(f\"Weight: {c_pesos[best]}\")\n",
    "    print(f\"Value: {c_valores[best]}\")\n",
    "    print(f\"Evaluation: {evaluacion[best]}\")\n",
    "\n",
    "    # Cálculo de probabilidades\n",
    "    indice_ordenado = (-evaluacion).argsort()\n",
    "    ruleta = []\n",
    "    potencia = K_POBLACION\n",
    "\n",
    "    for i in indice_ordenado:\n",
    "        probabilidad = K_BASE ** potencia\n",
    "        ruleta.extend([i] * probabilidad)\n",
    "        potencia -= 1\n",
    "\n",
    "    # Nueva generación\n",
    "    nueva = list[Cromosoma]()\n",
    "    nueva.append(poblacion[indice_ordenado[0]])\n",
    "    nueva.append(poblacion[indice_ordenado[1]])\n",
    "\n",
    "    for i in range(1, int(K_POBLACION/2)):\n",
    "        c1 = poblacion[np.random.choice(ruleta)]\n",
    "        c2 = poblacion[np.random.choice(ruleta)]\n",
    "        hijos = Cromosoma.crossover(c1, c2)\n",
    "\n",
    "        for hijo in hijos:\n",
    "            if np.random.choice([True, False], p=[K_PROBABILIDAD_MUTACION, 1-K_PROBABILIDAD_MUTACION]):\n",
    "                Cromosoma.mutar(hijo)\n",
    "\n",
    "        nueva.extend(hijos)\n",
    "\n",
    "    return nueva"
   ],
   "metadata": {
    "collapsed": false,
    "pycharm": {
     "name": "#%%\n"
    }
   }
  },
  {
   "cell_type": "markdown",
   "source": [
    "## Ciclo de vida"
   ],
   "metadata": {
    "collapsed": false
   }
  },
  {
   "cell_type": "code",
   "execution_count": 39,
   "outputs": [],
   "source": [
    "poblacion = list[Cromosoma]()\n",
    "nueva_poblacion = list[Cromosoma]()\n",
    "generacion = 0"
   ],
   "metadata": {
    "collapsed": false,
    "pycharm": {
     "name": "#%%\n"
    }
   }
  },
  {
   "cell_type": "code",
   "execution_count": 53,
   "outputs": [
    {
     "name": "stdout",
     "output_type": "stream",
     "text": [
      "Generation 13\n",
      "Best so far:\n",
      "Combination: [0 1 0 0 0 1 0 0 0 0 0 0 1 0 1 1 0 0 0 0]\n",
      "Weight: 0.976136194500251\n",
      "Value: 314\n",
      "Evaluation: 314\n"
     ]
    }
   ],
   "source": [
    "if len(nueva_poblacion) == 0:\n",
    "    poblacion = [Cromosoma() for _ in range(0, K_POBLACION)]\n",
    "else:\n",
    "    poblacion = nueva_poblacion\n",
    "\n",
    "print('Generation', generacion)\n",
    "nueva_poblacion = presion_selectiva(poblacion)\n",
    "generacion += 1"
   ],
   "metadata": {
    "collapsed": false,
    "pycharm": {
     "name": "#%%\n"
    }
   }
  }
 ],
 "metadata": {
  "kernelspec": {
   "display_name": "Python 3",
   "language": "python",
   "name": "python3"
  },
  "language_info": {
   "codemirror_mode": {
    "name": "ipython",
    "version": 2
   },
   "file_extension": ".py",
   "mimetype": "text/x-python",
   "name": "python",
   "nbconvert_exporter": "python",
   "pygments_lexer": "ipython2",
   "version": "2.7.6"
  }
 },
 "nbformat": 4,
 "nbformat_minor": 0
}