{
 "cells": [
  {
   "cell_type": "markdown",
   "metadata": {
    "collapsed": true,
    "pycharm": {
     "name": "#%% md\n"
    }
   },
   "source": [
    "# Problema del viajero\n",
    "## Definición de la función fitness"
   ]
  },
  {
   "cell_type": "code",
   "execution_count": 195,
   "outputs": [],
   "source": [
    "import numpy as np\n",
    "\n",
    "def fitness(distancias: np.ndarray):\n",
    "    return np.sum(distancias, axis=1)"
   ],
   "metadata": {
    "collapsed": false,
    "pycharm": {
     "name": "#%%\n"
    }
   }
  },
  {
   "cell_type": "markdown",
   "source": [
    "## Definición de cromosoma\n",
    "Se compone de una lista que contiene el orden en que visita las ciudades:\n",
    "\n",
    "- 0: Ciudad de México\n",
    "- 1: Montreal\n",
    "- 2: Moscú\n",
    "- 3: Nueva York\n",
    "- 4: París\n",
    "- 5: Río de Janeiro\n",
    "- 6: Roma"
   ],
   "metadata": {
    "collapsed": false
   }
  },
  {
   "cell_type": "code",
   "execution_count": 196,
   "outputs": [],
   "source": [
    "NUM_CIUDADES = 7\n",
    "BASE = np.array(range(0, NUM_CIUDADES))\n",
    "RNG = np.random.default_rng()\n",
    "DISTANCIAS = np.array([\n",
    "    [0, 2318, 6663, 2094, 5716, 4771, 6366],\n",
    "    [2318, 0, 4386, 320, 3422, 5097, 4080],\n",
    "    [6663, 4386, 0, 4065, 1544, 7175, 1474],\n",
    "    [2094, 320, 4065, 0, 3624, 4817, 4281],\n",
    "    [5716, 3422, 1544, 3624, 0, 5699, 697],\n",
    "    [4771, 5097, 7175, 4817, 5699, 0, 5684],\n",
    "    [6366, 4080, 1474, 4281, 697, 5684, 0]\n",
    "])\n",
    "\n",
    "class Cromosoma:\n",
    "    \"\"\"\n",
    "    Se conforma por una lista que representa el orden en el que recorre las ciudades, cada número no debe repetirse\n",
    "    \"\"\"\n",
    "    def __init__(self, ciudades=None):\n",
    "        if ciudades is None:\n",
    "            self.list = RNG.permutation(BASE)\n",
    "        else:\n",
    "            self.list = ciudades\n",
    "\n",
    "\n",
    "    def __str__(self):\n",
    "        return str(self.list)\n",
    "\n",
    "\n",
    "    def get_distancias(self):\n",
    "        distancias = [DISTANCIAS[self.list[i]][self.list[i+1]] for i in range(0, NUM_CIUDADES-1)]\n",
    "        distancias.append(DISTANCIAS[self.list[-1]][self.list[0]])  # Para regresar al origen\n",
    "        return np.array(distancias)\n",
    "\n",
    "\n",
    "    @staticmethod\n",
    "    def crossover_parcial(c1, c2):\n",
    "        offspring_1 = -np.ones_like(c1.list)\n",
    "        offspring_2 = -np.ones_like(c2.list)\n",
    "        index = np.random.randint(0, high=NUM_CIUDADES-3)\n",
    "\n",
    "        equivalencia_1 = c2.list[index:index+3].copy()\n",
    "        equivalencia_2 = c1.list[index:index+3].copy()\n",
    "        offspring_1[index:index+3] = equivalencia_1\n",
    "        offspring_2[index:index+3] = equivalencia_2\n",
    "\n",
    "        for i in range(0, NUM_CIUDADES):\n",
    "            iterador = c1.list[i]\n",
    "\n",
    "            if offspring_1[i] != -1:\n",
    "                continue\n",
    "            elif iterador in offspring_1:\n",
    "                while iterador in offspring_1:\n",
    "                    iterador = int(equivalencia_2[equivalencia_1 == iterador])\n",
    "\n",
    "            offspring_1[i] = iterador\n",
    "\n",
    "        for i in range(0, NUM_CIUDADES):\n",
    "            iterador = c2.list[i]\n",
    "\n",
    "            if offspring_2[i] != -1:\n",
    "                continue\n",
    "            elif iterador in offspring_2:\n",
    "                while iterador in offspring_2:\n",
    "                    iterador = int(equivalencia_1[equivalencia_2 == iterador])\n",
    "\n",
    "            offspring_2[i] = iterador\n",
    "\n",
    "        return [Cromosoma(offspring_1), Cromosoma(offspring_2)]\n",
    "\n",
    "    @staticmethod\n",
    "    def mutacion_desplazada(c):\n",
    "        desde = np.random.randint(0, high=NUM_CIUDADES-3)\n",
    "        hasta = np.random.randint(0, high=NUM_CIUDADES-3)\n",
    "        temporal = c.list[hasta:hasta+3].copy()\n",
    "        c.list[hasta:hasta+3] = c.list[desde:desde+3]\n",
    "        c.list[desde:desde+3] = temporal\n",
    "\n",
    "    @staticmethod\n",
    "    def mutacion_intercambio(c):\n",
    "        i = np.random.randint(low=0, high=NUM_CIUDADES)\n",
    "        j = np.random.randint(low=0, high=NUM_CIUDADES)\n",
    "        temporal = c.list[i]\n",
    "        c.list[i] = c.list[j]\n",
    "        c.list[j] = temporal\n"
   ],
   "metadata": {
    "collapsed": false,
    "pycharm": {
     "name": "#%%\n"
    }
   }
  },
  {
   "cell_type": "markdown",
   "source": [
    "## Definición de presión selectiva"
   ],
   "metadata": {
    "collapsed": false
   }
  },
  {
   "cell_type": "code",
   "execution_count": 197,
   "outputs": [],
   "source": [
    "K_POBLACION = 8\n",
    "K_BASE = 2\n",
    "K_PROBABILIDAD_MUTACION = 0.5\n",
    "\n",
    "def presion_selectiva(poblacion: list[Cromosoma]) -> list[Cromosoma]:\n",
    "    # Evaluación y búsqueda del mejor\n",
    "    distancias = np.array([c.get_distancias() for c in poblacion])\n",
    "    evaluacion = fitness(distancias)\n",
    "\n",
    "    best = evaluacion.argmin()\n",
    "    print(\"Best so far:\")\n",
    "    print(f\"Combination: {poblacion[best]}\")\n",
    "    print(f\"Distances: {distancias[best]}\")\n",
    "    print(f\"Evaluation: {evaluacion[best]}\")\n",
    "\n",
    "    # Cálculo de probabilidades\n",
    "    indice_ordenado = evaluacion.argsort()\n",
    "    ruleta = []\n",
    "    potencia = K_POBLACION\n",
    "\n",
    "    for i in indice_ordenado:\n",
    "        probabilidad = K_BASE ** potencia\n",
    "        ruleta.extend([i] * probabilidad)\n",
    "        potencia -= 1\n",
    "\n",
    "    # Nueva generación\n",
    "    nueva = list[Cromosoma]()\n",
    "    nueva.append(poblacion[indice_ordenado[0]])\n",
    "    nueva.append(poblacion[indice_ordenado[1]])\n",
    "\n",
    "    for i in range(1, int(K_POBLACION/2)):\n",
    "        c1 = poblacion[np.random.choice(ruleta)]\n",
    "        c2 = poblacion[np.random.choice(ruleta)]\n",
    "        hijos = Cromosoma.crossover_parcial(c1, c2)\n",
    "\n",
    "        for hijo in hijos:\n",
    "            if np.random.choice([True, False], p=[K_PROBABILIDAD_MUTACION, 1-K_PROBABILIDAD_MUTACION]):\n",
    "                Cromosoma.mutacion_intercambio(hijo)\n",
    "\n",
    "        nueva.extend(hijos)\n",
    "\n",
    "    return nueva"
   ],
   "metadata": {
    "collapsed": false,
    "pycharm": {
     "name": "#%%\n"
    }
   }
  },
  {
   "cell_type": "markdown",
   "source": [
    "## Ciclo de vida"
   ],
   "metadata": {
    "collapsed": false
   }
  },
  {
   "cell_type": "code",
   "execution_count": 198,
   "outputs": [],
   "source": [
    "poblacion = list[Cromosoma]()\n",
    "nueva_poblacion = list[Cromosoma]()\n",
    "generacion = 0"
   ],
   "metadata": {
    "collapsed": false,
    "pycharm": {
     "name": "#%%\n"
    }
   }
  },
  {
   "cell_type": "code",
   "execution_count": 215,
   "outputs": [
    {
     "name": "stdout",
     "output_type": "stream",
     "text": [
      "Generation 16\n",
      "Best so far:\n",
      "Combination: [0 5 4 6 2 3 1]\n",
      "Distances: [4771 5699  697 1474 4065  320 2318]\n",
      "Evaluation: 19344\n"
     ]
    }
   ],
   "source": [
    "if len(nueva_poblacion) == 0:\n",
    "    poblacion = [Cromosoma() for _ in range(0, K_POBLACION)]\n",
    "else:\n",
    "    poblacion = nueva_poblacion\n",
    "\n",
    "print('Generation', generacion)\n",
    "nueva_poblacion = presion_selectiva(poblacion)\n",
    "generacion += 1"
   ],
   "metadata": {
    "collapsed": false,
    "pycharm": {
     "name": "#%%\n"
    }
   }
  }
 ],
 "metadata": {
  "kernelspec": {
   "display_name": "Python 3",
   "language": "python",
   "name": "python3"
  },
  "language_info": {
   "codemirror_mode": {
    "name": "ipython",
    "version": 2
   },
   "file_extension": ".py",
   "mimetype": "text/x-python",
   "name": "python",
   "nbconvert_exporter": "python",
   "pygments_lexer": "ipython2",
   "version": "2.7.6"
  }
 },
 "nbformat": 4,
 "nbformat_minor": 0
}