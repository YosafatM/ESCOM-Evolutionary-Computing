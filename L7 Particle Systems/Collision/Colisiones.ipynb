{
  "nbformat": 4,
  "nbformat_minor": 0,
  "metadata": {
    "colab": {
      "name": "Colisiones.ipynb",
      "provenance": [],
      "collapsed_sections": []
    },
    "kernelspec": {
      "name": "python3",
      "display_name": "Python 3"
    },
    "language_info": {
      "name": "python"
    },
    "widgets": {
      "application/vnd.jupyter.widget-state+json": {
        "94923deb7c4c4eca8d34982ce321dfa9": {
          "model_module": "@jupyter-widgets/controls",
          "model_name": "ImageModel",
          "model_module_version": "1.5.0",
          "state": {
            "_view_name": "ImageView",
            "_dom_classes": [],
            "_model_name": "ImageModel",
            "format": "png",
            "_view_module": "@jupyter-widgets/controls",
            "_model_module_version": "1.5.0",
            "_view_count": null,
            "width": "",
            "_view_module_version": "1.5.0",
            "layout": "IPY_MODEL_3f293d11807945d2b9348f9af0eae7f3",
            "height": "",
            "_model_module": "@jupyter-widgets/controls"
          }
        },
        "3f293d11807945d2b9348f9af0eae7f3": {
          "model_module": "@jupyter-widgets/base",
          "model_name": "LayoutModel",
          "model_module_version": "1.2.0",
          "state": {
            "_view_name": "LayoutView",
            "grid_template_rows": null,
            "right": null,
            "justify_content": null,
            "_view_module": "@jupyter-widgets/base",
            "overflow": null,
            "_model_module_version": "1.2.0",
            "_view_count": null,
            "flex_flow": null,
            "width": null,
            "min_width": null,
            "border": null,
            "align_items": null,
            "bottom": null,
            "_model_module": "@jupyter-widgets/base",
            "top": null,
            "grid_column": null,
            "overflow_y": null,
            "overflow_x": null,
            "grid_auto_flow": null,
            "grid_area": null,
            "grid_template_columns": null,
            "flex": null,
            "_model_name": "LayoutModel",
            "justify_items": null,
            "grid_row": null,
            "max_height": null,
            "align_content": null,
            "visibility": null,
            "align_self": null,
            "height": null,
            "min_height": null,
            "padding": null,
            "grid_auto_rows": null,
            "grid_gap": null,
            "max_width": null,
            "order": null,
            "_view_module_version": "1.2.0",
            "grid_template_areas": null,
            "object_position": null,
            "object_fit": null,
            "grid_auto_columns": null,
            "margin": null,
            "display": null,
            "left": null
          }
        },
        "8419f90148f348b09e709fcbfaa22e12": {
          "model_module": "@jupyter-widgets/controls",
          "model_name": "ImageModel",
          "model_module_version": "1.5.0",
          "state": {
            "_view_name": "ImageView",
            "_dom_classes": [],
            "_model_name": "ImageModel",
            "format": "png",
            "_view_module": "@jupyter-widgets/controls",
            "_model_module_version": "1.5.0",
            "_view_count": null,
            "width": "",
            "_view_module_version": "1.5.0",
            "layout": "IPY_MODEL_8965b1bd12a94132a3438bceae39d7b5",
            "height": "",
            "_model_module": "@jupyter-widgets/controls"
          }
        },
        "8965b1bd12a94132a3438bceae39d7b5": {
          "model_module": "@jupyter-widgets/base",
          "model_name": "LayoutModel",
          "model_module_version": "1.2.0",
          "state": {
            "_view_name": "LayoutView",
            "grid_template_rows": null,
            "right": null,
            "justify_content": null,
            "_view_module": "@jupyter-widgets/base",
            "overflow": null,
            "_model_module_version": "1.2.0",
            "_view_count": null,
            "flex_flow": null,
            "width": null,
            "min_width": null,
            "border": null,
            "align_items": null,
            "bottom": null,
            "_model_module": "@jupyter-widgets/base",
            "top": null,
            "grid_column": null,
            "overflow_y": null,
            "overflow_x": null,
            "grid_auto_flow": null,
            "grid_area": null,
            "grid_template_columns": null,
            "flex": null,
            "_model_name": "LayoutModel",
            "justify_items": null,
            "grid_row": null,
            "max_height": null,
            "align_content": null,
            "visibility": null,
            "align_self": null,
            "height": null,
            "min_height": null,
            "padding": null,
            "grid_auto_rows": null,
            "grid_gap": null,
            "max_width": null,
            "order": null,
            "_view_module_version": "1.2.0",
            "grid_template_areas": null,
            "object_position": null,
            "object_fit": null,
            "grid_auto_columns": null,
            "margin": null,
            "display": null,
            "left": null
          }
        }
      }
    }
  },
  "cells": [
    {
      "cell_type": "markdown",
      "metadata": {
        "id": "nshRSEhOeCcX"
      },
      "source": [
        "# Colisiones entre partículas en un espacio cerrado"
      ]
    },
    {
      "cell_type": "code",
      "metadata": {
        "id": "_8XSjbCPC5lj"
      },
      "source": [
        "import cv2\n",
        "import numpy as np\n",
        "from IPython import display as display\n",
        "\n",
        "import ipywidgets as ipw\n",
        "import PIL\n",
        "from io import BytesIO"
      ],
      "execution_count": null,
      "outputs": []
    },
    {
      "cell_type": "code",
      "metadata": {
        "id": "xwd9Yujqd88X"
      },
      "source": [
        "RADIO = 10\n",
        "\n",
        "class Particle:\n",
        "    MaxV = np.sqrt(2) # Raíz de 1 +1\n",
        "\n",
        "    def __init__(self, x, y, vel_x, vel_y, WallParticle=False):\n",
        "        self.r = np.array([float(x), float(y)])\n",
        "        self.v = np.array([float(vel_x), float(vel_y)])\n",
        "        self.WallParticle = WallParticle\n",
        "        self.F = np.array([0.0,0.0])\n",
        "\n",
        "    def normalize_vector(self, x):\n",
        "        norm = np.linalg.norm(x)\n",
        "        if norm==0:\n",
        "            return x*np.inf\n",
        "        return x/norm\n",
        "\n",
        "    def r12(self, r2):\n",
        "        return np.linalg.norm(r2-self.r)\n",
        "\n",
        "    def calculateF(self, r2):\n",
        "        if self.WallParticle==True:\n",
        "            return np.array([0.,0.])\n",
        "        \n",
        "        r12 = self.r-r2\n",
        "        r12magnitude=np.linalg.norm(r12)\n",
        "        \n",
        "        if r12magnitude <= 2.5 * RADIO:\n",
        "            return self.normalize_vector(r12) / (r12magnitude**2)\n",
        "        \n",
        "        return np.array([0.,0.])\n",
        "\n",
        "    def update_r(self):\n",
        "        if self.WallParticle==True:\n",
        "            return\n",
        "        \n",
        "        self.r += self.v\n",
        "\n",
        "    def update_v(self):\n",
        "        if self.WallParticle==True:\n",
        "            return\n",
        "        \n",
        "        self.v += self.F\n",
        "\n",
        "        vmag = np.linalg.norm(self.v)\n",
        "\n",
        "        if vmag > self.MaxV:\n",
        "            self.v = self.normalize_vector(self.v) * self.MaxV\n",
        "\n",
        "    def graph(self,x0,y0,img):\n",
        "        if self.WallParticle==True:\n",
        "            color=(0,255,255)\n",
        "        else:\n",
        "            color=(255,255,255)\n",
        "\n",
        "        cv2.circle(img, (int(x0+self.r[0]), int(y0-self.r[1])), RADIO, color, -1)\n",
        "        return\n"
      ],
      "execution_count": null,
      "outputs": []
    },
    {
      "cell_type": "markdown",
      "metadata": {
        "id": "AowHipp9PiLj"
      },
      "source": [
        "## Hueco en una pared"
      ]
    },
    {
      "cell_type": "code",
      "metadata": {
        "colab": {
          "base_uri": "https://localhost:8080/",
          "height": 525,
          "referenced_widgets": [
            "94923deb7c4c4eca8d34982ce321dfa9",
            "3f293d11807945d2b9348f9af0eae7f3"
          ]
        },
        "id": "kuzeUWn7C2Fu",
        "outputId": "48e605f7-6199-4767-d605-0418369870e6"
      },
      "source": [
        "particles=[]\n",
        "NUM_PARTICULAS = 25\n",
        "X_CAJA = 150\n",
        "Y_CAJA = 100\n",
        "\n",
        "def lineOfWallParticles(x1, y1, x2, y2, N, is_open=False):\n",
        "    global particles\n",
        "    x=np.linspace(x1,x2,N)\n",
        "    y=np.linspace(y1,y2,N)\n",
        "\n",
        "    index = range(N)\n",
        "\n",
        "    for i in index[:int(N * 1/3)]:\n",
        "        particles.append(Particle(x[i], y[i], 0, 0, WallParticle=True))\n",
        "    \n",
        "    if not is_open:\n",
        "        for i in index[int(N * 1/3):int(N * 2/3)]:\n",
        "            particles.append(Particle(x[i], y[i], 0, 0, WallParticle=True))\n",
        "    \n",
        "    for i in index[int(N*2/3):N]:\n",
        "        particles.append(Particle(x[i], y[i], 0, 0, WallParticle=True))\n",
        "\n",
        "\n",
        "\n",
        "wIm = ipw.Image()\n",
        "display.display(wIm)\n",
        "maxX=500\n",
        "maxY=500\n",
        "x0=int(maxX/2)\n",
        "y0=int(maxY/2)\n",
        "\n",
        "  \n",
        "img = np.zeros((500, 500, 3), dtype=\"uint8\")\n",
        "\n",
        "# Horizontales\n",
        "lineOfWallParticles(-X_CAJA, Y_CAJA, X_CAJA, Y_CAJA, 50)\n",
        "lineOfWallParticles(-X_CAJA, -Y_CAJA, X_CAJA, -Y_CAJA, 50)\n",
        "\n",
        "# Verticales\n",
        "lineOfWallParticles(-X_CAJA, Y_CAJA, -X_CAJA, -Y_CAJA, 30)\n",
        "lineOfWallParticles(X_CAJA, -Y_CAJA, X_CAJA, Y_CAJA, 30, is_open=True)\n",
        "\n",
        "for _ in range(NUM_PARTICULAS):\n",
        "    x_particula = np.random.randint(-X_CAJA+10, X_CAJA-10)\n",
        "    y_particula = np.random.randint(-Y_CAJA+10, Y_CAJA-10)\n",
        "\n",
        "    vel_x = np.random.rand()\n",
        "    vel_y = np.random.rand()\n",
        "    particles.append(Particle(x_particula, y_particula, vel_x, vel_y))\n",
        "\n",
        "MaxIterations = 2000\n",
        "\n",
        "NumParticles=len(particles)\n",
        "\n",
        "for count in range(MaxIterations):\n",
        "    img[:]=(0,0,0)\n",
        "\n",
        "    for i in range(NumParticles):\n",
        "        for j in range(NumParticles):\n",
        "            if i!=j:\n",
        "                Fij=particles[i].calculateF(particles[j].r)\n",
        "                particles[i].F+=Fij\n",
        "\n",
        "    for p in particles:\n",
        "        p.update_v()\n",
        "        p.update_r()\n",
        "        p.graph(x0,y0,img)\n",
        "        p.F[:]=0\n",
        "\n",
        "    cv2.putText(img, str(count), (20,20), cv2.FONT_HERSHEY_SIMPLEX, 1, (255,255,255))\n",
        "\n",
        "    pilIm = PIL.Image.fromarray(img, mode=\"RGB\")\n",
        "    with BytesIO() as fOut:\n",
        "        pilIm.save(fOut, format=\"png\")\n",
        "        byPng = fOut.getvalue()\n",
        "        \n",
        "    # set the png bytes as the image value; \n",
        "    # this updates the image in the browser.\n",
        "    wIm.value=byPng  "
      ],
      "execution_count": null,
      "outputs": [
        {
          "output_type": "display_data",
          "data": {
            "application/vnd.jupyter.widget-view+json": {
              "model_id": "94923deb7c4c4eca8d34982ce321dfa9",
              "version_minor": 0,
              "version_major": 2
            },
            "text/plain": [
              "Image(value=b'')"
            ]
          },
          "metadata": {}
        }
      ]
    },
    {
      "cell_type": "markdown",
      "metadata": {
        "id": "RhAm2Bl_PnzK"
      },
      "source": [
        "# Hueco y obstáculo"
      ]
    },
    {
      "cell_type": "code",
      "metadata": {
        "colab": {
          "base_uri": "https://localhost:8080/",
          "height": 525,
          "referenced_widgets": [
            "8419f90148f348b09e709fcbfaa22e12",
            "8965b1bd12a94132a3438bceae39d7b5"
          ]
        },
        "id": "Ndtu5zKiViRS",
        "outputId": "ae397715-2de2-4b86-e24e-ea6d42229b2d"
      },
      "source": [
        "particles=[]\n",
        "NUM_PARTICULAS = 25\n",
        "X_CAJA = 150\n",
        "Y_CAJA = 100\n",
        "\n",
        "def lineOfWallParticles(x1, y1, x2, y2, N, is_open=False):\n",
        "    global particles\n",
        "    x=np.linspace(x1,x2,N)\n",
        "    y=np.linspace(y1,y2,N)\n",
        "\n",
        "    index = range(N)\n",
        "\n",
        "    for i in index[:int(N * 1/3)]:\n",
        "        particles.append(Particle(x[i], y[i], 0, 0, WallParticle=True))\n",
        "    \n",
        "    if not is_open:\n",
        "        for i in index[int(N * 1/3):int(N * 2/3)]:\n",
        "            particles.append(Particle(x[i], y[i], 0, 0, WallParticle=True))\n",
        "    \n",
        "    for i in index[int(N*2/3):N]:\n",
        "        particles.append(Particle(x[i], y[i], 0, 0, WallParticle=True))\n",
        "\n",
        "\n",
        "\n",
        "wIm = ipw.Image()\n",
        "display.display(wIm)\n",
        "maxX=500\n",
        "maxY=500\n",
        "x0=int(maxX/2)\n",
        "y0=int(maxY/2)\n",
        "\n",
        "  \n",
        "img = np.zeros((500, 500, 3), dtype=\"uint8\")\n",
        "\n",
        "# Horizontales\n",
        "lineOfWallParticles(-X_CAJA, Y_CAJA, X_CAJA, Y_CAJA, 50)\n",
        "lineOfWallParticles(-X_CAJA, -Y_CAJA, X_CAJA, -Y_CAJA, 50)\n",
        "\n",
        "# Verticales\n",
        "lineOfWallParticles(-X_CAJA, Y_CAJA, -X_CAJA, -Y_CAJA, 30)\n",
        "lineOfWallParticles(X_CAJA, -Y_CAJA, X_CAJA, Y_CAJA, 30, is_open=True)\n",
        "\n",
        "# Obstáculo\n",
        "lineOfWallParticles(70, 0, 85, 30, 10)\n",
        "lineOfWallParticles(70, 0, 85, -30, 10)\n",
        "lineOfWallParticles(85, 30, 100, 0, 10)\n",
        "lineOfWallParticles(85, -30, 100, 0, 10)\n",
        "\n",
        "for _ in range(NUM_PARTICULAS):\n",
        "    x_particula = np.random.randint(-X_CAJA+10, X_CAJA-10)\n",
        "    y_particula = np.random.randint(-Y_CAJA+10, Y_CAJA-10)\n",
        "\n",
        "    vel_x = np.random.rand()\n",
        "    vel_y = np.random.rand()\n",
        "    particles.append(Particle(x_particula, y_particula, vel_x, vel_y))\n",
        "\n",
        "MaxIterations = 2000\n",
        "\n",
        "NumParticles=len(particles)\n",
        "\n",
        "for count in range(MaxIterations):\n",
        "    img[:]=(0,0,0)\n",
        "\n",
        "    for i in range(NumParticles):\n",
        "        for j in range(NumParticles):\n",
        "            if i!=j:\n",
        "                Fij=particles[i].calculateF(particles[j].r)\n",
        "                particles[i].F+=Fij\n",
        "\n",
        "    for p in particles:\n",
        "        p.update_v()\n",
        "        p.update_r()\n",
        "        p.graph(x0,y0,img)\n",
        "        p.F[:]=0\n",
        "\n",
        "    cv2.putText(img, str(count), (20,20), cv2.FONT_HERSHEY_SIMPLEX, 1, (255,255,255))\n",
        "\n",
        "    pilIm = PIL.Image.fromarray(img, mode=\"RGB\")\n",
        "    with BytesIO() as fOut:\n",
        "        pilIm.save(fOut, format=\"png\")\n",
        "        byPng = fOut.getvalue()\n",
        "        \n",
        "    # set the png bytes as the image value; \n",
        "    # this updates the image in the browser.\n",
        "    wIm.value=byPng"
      ],
      "execution_count": null,
      "outputs": [
        {
          "output_type": "display_data",
          "data": {
            "application/vnd.jupyter.widget-view+json": {
              "model_id": "8419f90148f348b09e709fcbfaa22e12",
              "version_minor": 0,
              "version_major": 2
            },
            "text/plain": [
              "Image(value=b'')"
            ]
          },
          "metadata": {}
        }
      ]
    }
  ]
}