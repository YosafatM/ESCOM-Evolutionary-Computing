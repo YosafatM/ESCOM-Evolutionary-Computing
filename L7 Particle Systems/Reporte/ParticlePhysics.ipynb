{
  "nbformat": 4,
  "nbformat_minor": 0,
  "metadata": {
    "colab": {
      "name": "ParticlePhysics.ipynb",
      "provenance": []
    },
    "kernelspec": {
      "name": "python3",
      "display_name": "Python 3"
    },
    "language_info": {
      "name": "python"
    },
    "widgets": {
      "application/vnd.jupyter.widget-state+json": {
        "c5f00d02c00f4259801c2ce71ea6a0f9": {
          "model_module": "@jupyter-widgets/controls",
          "model_name": "ImageModel",
          "model_module_version": "1.5.0",
          "state": {
            "_view_name": "ImageView",
            "_dom_classes": [],
            "_model_name": "ImageModel",
            "format": "png",
            "_view_module": "@jupyter-widgets/controls",
            "_model_module_version": "1.5.0",
            "_view_count": null,
            "width": "",
            "_view_module_version": "1.5.0",
            "layout": "IPY_MODEL_cdf118e1337e41d58e42bfa35239b2a2",
            "height": "",
            "_model_module": "@jupyter-widgets/controls"
          }
        },
        "cdf118e1337e41d58e42bfa35239b2a2": {
          "model_module": "@jupyter-widgets/base",
          "model_name": "LayoutModel",
          "model_module_version": "1.2.0",
          "state": {
            "_view_name": "LayoutView",
            "grid_template_rows": null,
            "right": null,
            "justify_content": null,
            "_view_module": "@jupyter-widgets/base",
            "overflow": null,
            "_model_module_version": "1.2.0",
            "_view_count": null,
            "flex_flow": null,
            "width": null,
            "min_width": null,
            "border": null,
            "align_items": null,
            "bottom": null,
            "_model_module": "@jupyter-widgets/base",
            "top": null,
            "grid_column": null,
            "overflow_y": null,
            "overflow_x": null,
            "grid_auto_flow": null,
            "grid_area": null,
            "grid_template_columns": null,
            "flex": null,
            "_model_name": "LayoutModel",
            "justify_items": null,
            "grid_row": null,
            "max_height": null,
            "align_content": null,
            "visibility": null,
            "align_self": null,
            "height": null,
            "min_height": null,
            "padding": null,
            "grid_auto_rows": null,
            "grid_gap": null,
            "max_width": null,
            "order": null,
            "_view_module_version": "1.2.0",
            "grid_template_areas": null,
            "object_position": null,
            "object_fit": null,
            "grid_auto_columns": null,
            "margin": null,
            "display": null,
            "left": null
          }
        }
      }
    }
  },
  "cells": [
    {
      "cell_type": "code",
      "metadata": {
        "id": "N4kk-yJRkNcj"
      },
      "source": [
        "import cv2\n",
        "import numpy as np\n",
        "#from google.colab.patches import cv2_imshow\n",
        "#import math\n",
        "#import time\n",
        "from IPython import display as display\n",
        "\n",
        "import ipywidgets as ipw\n",
        "import PIL\n",
        "from io import BytesIO\n"
      ],
      "execution_count": 1,
      "outputs": []
    },
    {
      "cell_type": "code",
      "metadata": {
        "id": "_iqYK29jvF3I"
      },
      "source": [
        "class Particle:\n",
        "  MaxV = np.sqrt(2)\n",
        "  def __init__(self,x,y,vx,vy,WallParticle=False):\n",
        "    self.r = np.array([float(x),float(y)])\n",
        "    self.v = np.array([float(vx),float(vy)])\n",
        "    self.WallParticle=WallParticle\n",
        "    self.F=np.array([0.0,0.0])\n",
        "  def normalize_vector(self,x):\n",
        "    norm=np.linalg.norm(x)\n",
        "    if norm==0:\n",
        "      return x*np.inf\n",
        "    return x/norm\n",
        "  def r12(self,r2):\n",
        "    return np.linalg.norm(r2-self.r)\n",
        "  def calculateF(self,r2):\n",
        "    if self.WallParticle==True:\n",
        "      return np.array([0.,0.])\n",
        "    r12=self.r-r2\n",
        "    r12magnitude=np.linalg.norm(r12)\n",
        "    if r12magnitude<=2:\n",
        "      return self.normalize_vector(r12)/ (r12magnitude**2)\n",
        "    return np.array([0.,0.])\n",
        "  def update_r(self):\n",
        "    if self.WallParticle==True:\n",
        "      return\n",
        "    self.r+=self.v\n",
        "    return\n",
        "  def update_v(self):\n",
        "    if self.WallParticle==True:\n",
        "      return\n",
        "    self.v+=self.F\n",
        "\n",
        "    vmag=np.linalg.norm(self.v)\n",
        "\n",
        "    if vmag> self.MaxV:\n",
        "      self.v=self.normalize_vector(self.v)*self.MaxV\n",
        "    return\n",
        "    \n",
        "  def graph(self,x0,y0,img):\n",
        "    if self.WallParticle==True:\n",
        "      color=(0,255,255)\n",
        "    else:\n",
        "      color=(255,255,255)\n",
        "\n",
        "    cv2.circle(img,(int(x0+self.r[0]),int(y0-self.r[1])),10,color,-1)\n",
        "    return\n",
        "\n",
        "\n"
      ],
      "execution_count": 37,
      "outputs": []
    },
    {
      "cell_type": "code",
      "metadata": {
        "id": "R-eu2pwFiR44",
        "colab": {
          "base_uri": "https://localhost:8080/",
          "height": 858,
          "referenced_widgets": [
            "c5f00d02c00f4259801c2ce71ea6a0f9",
            "cdf118e1337e41d58e42bfa35239b2a2"
          ]
        },
        "outputId": "fd982098-c897-42d5-f2e6-e205f5987df8"
      },
      "source": [
        "particles=[]\n",
        "\n",
        "def lineOfWallParticles(x1,y1,x2,y2,N):\n",
        "  global particles\n",
        "  x=np.linspace(x1,x2,N)\n",
        "  y=np.linspace(y1,y2,N)\n",
        "  for i in range(N):\n",
        "    particles.append(Particle(x[i],y[i],0,0,WallParticle=True))\n",
        "\n",
        "\n",
        "\n",
        "wIm = ipw.Image()\n",
        "display.display(wIm)\n",
        "\n",
        "\n",
        "maxX=500\n",
        "maxY=500\n",
        "x0=int(maxX/2)\n",
        "y0=int(maxY/2)\n",
        "\n",
        "  \n",
        "img = np.zeros((500, 500, 3), dtype=\"uint8\")\n",
        "\n",
        "lineOfWallParticles(-100,100,100,100,20)\n",
        "lineOfWallParticles(-100,-100,100,-100,20)\n",
        "lineOfWallParticles(-100,100,-100,-100,20)\n",
        "lineOfWallParticles(100,-100,100,100,20)\n",
        "\n",
        "particles.append(Particle(0,0,0.5,0.5))\n",
        "particles.append(Particle(50,50,0.5,0.5))\n",
        "\n",
        "MaxIterations = 2000\n",
        "\n",
        "NumParticles=len(particles)\n",
        "\n",
        "for count in range(MaxIterations):\n",
        "  img[:]=(0,0,0)\n",
        "  for i in range(NumParticles):\n",
        "    for j in range(NumParticles):\n",
        "      if i!=j:\n",
        "        Fij=particles[i].calculateF(particles[j].r)\n",
        "        particles[i].F+=Fij\n",
        "  for p in particles:\n",
        "    p.update_v()\n",
        "    p.update_r()\n",
        "    p.graph(x0,y0,img)\n",
        "    p.F[:]=0\n",
        "  \n",
        "  cv2.putText( img,str(count),(20,20),cv2.FONT_HERSHEY_SIMPLEX,1,(255,255,255))\n",
        "  \n",
        "  pilIm = PIL.Image.fromarray(img, mode=\"RGB\")\n",
        "  with BytesIO() as fOut:\n",
        "      pilIm.save(fOut, format=\"png\")\n",
        "      byPng = fOut.getvalue()\n",
        "        \n",
        "  # set the png bytes as the image value; \n",
        "  # this updates the image in the browser.\n",
        "  wIm.value=byPng  \n",
        "\n",
        "\n"
      ],
      "execution_count": 39,
      "outputs": [
        {
          "output_type": "display_data",
          "data": {
            "application/vnd.jupyter.widget-view+json": {
              "model_id": "c5f00d02c00f4259801c2ce71ea6a0f9",
              "version_minor": 0,
              "version_major": 2
            },
            "text/plain": [
              "Image(value=b'')"
            ]
          },
          "metadata": {}
        },
        {
          "output_type": "error",
          "ename": "KeyboardInterrupt",
          "evalue": "ignored",
          "traceback": [
            "\u001b[0;31m---------------------------------------------------------------------------\u001b[0m",
            "\u001b[0;31mKeyboardInterrupt\u001b[0m                         Traceback (most recent call last)",
            "\u001b[0;32m<ipython-input-39-a9f338167527>\u001b[0m in \u001b[0;36m<module>\u001b[0;34m()\u001b[0m\n\u001b[1;32m     39\u001b[0m     \u001b[0;32mfor\u001b[0m \u001b[0mj\u001b[0m \u001b[0;32min\u001b[0m \u001b[0mrange\u001b[0m\u001b[0;34m(\u001b[0m\u001b[0mNumParticles\u001b[0m\u001b[0;34m)\u001b[0m\u001b[0;34m:\u001b[0m\u001b[0;34m\u001b[0m\u001b[0;34m\u001b[0m\u001b[0m\n\u001b[1;32m     40\u001b[0m       \u001b[0;32mif\u001b[0m \u001b[0mi\u001b[0m\u001b[0;34m!=\u001b[0m\u001b[0mj\u001b[0m\u001b[0;34m:\u001b[0m\u001b[0;34m\u001b[0m\u001b[0;34m\u001b[0m\u001b[0m\n\u001b[0;32m---> 41\u001b[0;31m         \u001b[0mFij\u001b[0m\u001b[0;34m=\u001b[0m\u001b[0mparticles\u001b[0m\u001b[0;34m[\u001b[0m\u001b[0mi\u001b[0m\u001b[0;34m]\u001b[0m\u001b[0;34m.\u001b[0m\u001b[0mcalculateF\u001b[0m\u001b[0;34m(\u001b[0m\u001b[0mparticles\u001b[0m\u001b[0;34m[\u001b[0m\u001b[0mj\u001b[0m\u001b[0;34m]\u001b[0m\u001b[0;34m.\u001b[0m\u001b[0mr\u001b[0m\u001b[0;34m)\u001b[0m\u001b[0;34m\u001b[0m\u001b[0;34m\u001b[0m\u001b[0m\n\u001b[0m\u001b[1;32m     42\u001b[0m         \u001b[0mparticles\u001b[0m\u001b[0;34m[\u001b[0m\u001b[0mi\u001b[0m\u001b[0;34m]\u001b[0m\u001b[0;34m.\u001b[0m\u001b[0mF\u001b[0m\u001b[0;34m+=\u001b[0m\u001b[0mFij\u001b[0m\u001b[0;34m\u001b[0m\u001b[0;34m\u001b[0m\u001b[0m\n\u001b[1;32m     43\u001b[0m   \u001b[0;32mfor\u001b[0m \u001b[0mp\u001b[0m \u001b[0;32min\u001b[0m \u001b[0mparticles\u001b[0m\u001b[0;34m:\u001b[0m\u001b[0;34m\u001b[0m\u001b[0;34m\u001b[0m\u001b[0m\n",
            "\u001b[0;32m<ipython-input-37-6dce7f8e4ee1>\u001b[0m in \u001b[0;36mcalculateF\u001b[0;34m(self, r2)\u001b[0m\n\u001b[1;32m     15\u001b[0m   \u001b[0;32mdef\u001b[0m \u001b[0mcalculateF\u001b[0m\u001b[0;34m(\u001b[0m\u001b[0mself\u001b[0m\u001b[0;34m,\u001b[0m\u001b[0mr2\u001b[0m\u001b[0;34m)\u001b[0m\u001b[0;34m:\u001b[0m\u001b[0;34m\u001b[0m\u001b[0;34m\u001b[0m\u001b[0m\n\u001b[1;32m     16\u001b[0m     \u001b[0;32mif\u001b[0m \u001b[0mself\u001b[0m\u001b[0;34m.\u001b[0m\u001b[0mWallParticle\u001b[0m\u001b[0;34m==\u001b[0m\u001b[0;32mTrue\u001b[0m\u001b[0;34m:\u001b[0m\u001b[0;34m\u001b[0m\u001b[0;34m\u001b[0m\u001b[0m\n\u001b[0;32m---> 17\u001b[0;31m       \u001b[0;32mreturn\u001b[0m \u001b[0mnp\u001b[0m\u001b[0;34m.\u001b[0m\u001b[0marray\u001b[0m\u001b[0;34m(\u001b[0m\u001b[0;34m[\u001b[0m\u001b[0;36m0.\u001b[0m\u001b[0;34m,\u001b[0m\u001b[0;36m0.\u001b[0m\u001b[0;34m]\u001b[0m\u001b[0;34m)\u001b[0m\u001b[0;34m\u001b[0m\u001b[0;34m\u001b[0m\u001b[0m\n\u001b[0m\u001b[1;32m     18\u001b[0m     \u001b[0mr12\u001b[0m\u001b[0;34m=\u001b[0m\u001b[0mself\u001b[0m\u001b[0;34m.\u001b[0m\u001b[0mr\u001b[0m\u001b[0;34m-\u001b[0m\u001b[0mr2\u001b[0m\u001b[0;34m\u001b[0m\u001b[0;34m\u001b[0m\u001b[0m\n\u001b[1;32m     19\u001b[0m     \u001b[0mr12magnitude\u001b[0m\u001b[0;34m=\u001b[0m\u001b[0mnp\u001b[0m\u001b[0;34m.\u001b[0m\u001b[0mlinalg\u001b[0m\u001b[0;34m.\u001b[0m\u001b[0mnorm\u001b[0m\u001b[0;34m(\u001b[0m\u001b[0mr12\u001b[0m\u001b[0;34m)\u001b[0m\u001b[0;34m\u001b[0m\u001b[0;34m\u001b[0m\u001b[0m\n",
            "\u001b[0;31mKeyboardInterrupt\u001b[0m: "
          ]
        }
      ]
    }
  ]
}