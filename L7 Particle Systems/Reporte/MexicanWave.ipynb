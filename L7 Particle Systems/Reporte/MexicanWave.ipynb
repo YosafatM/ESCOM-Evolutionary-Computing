{
 "nbformat": 4,
 "nbformat_minor": 0,
 "metadata": {
  "colab": {
   "name": "MexicanWave.ipynb",
   "provenance": []
  },
  "kernelspec": {
   "name": "python3",
   "display_name": "Python 3"
  },
  "language_info": {
   "name": "python"
  }
 },
 "cells": [
  {
   "cell_type": "code",
   "metadata": {
    "id": "N4kk-yJRkNcj"
   },
   "source": [
    "import cv2\n",
    "import numpy as np\n",
    "#from google.colab.patches import cv2_imshow\n",
    "#import math\n",
    "#import time\n",
    "from IPython import display as display\n",
    "\n",
    "import ipywidgets as ipw\n",
    "import PIL\n",
    "from io import BytesIO\n"
   ],
   "execution_count": 1,
   "outputs": []
  },
  {
   "cell_type": "code",
   "metadata": {
    "id": "R-eu2pwFiR44"
   },
   "source": [
    "N=20\n",
    "particles = np.zeros((N,))\n",
    "up= np.ones((N,))\n",
    "\n",
    "wIm = ipw.Image()\n",
    "display.display(wIm)\n",
    "\n",
    "\n",
    "maxX=500\n",
    "maxY=500\n",
    "x0=100\n",
    "y0=100\n",
    "\n",
    "def graph_particles(img):\n",
    "  global particles,x0,y0,maxX,maxY,N\n",
    "  stride = (maxX - 2*x0)/N\n",
    "  r=5\n",
    "  for i in range(15):\n",
    "    cv2.circle(img,(int(x0+stride*i),int(y0-particles[i])),int(r),(255,255,255),-1)\n",
    "\n",
    "\n",
    "def iteration():\n",
    "  global particles\n",
    "  #influence of neighbors\n",
    "  for i in range(15):\n",
    "    if i>0 and i<14 and up[i]==1:\n",
    "      particles[i]+=0.1*particles[i-1]+0.1*particles[i+1]\n",
    "    if up[i]==1 and particles[i]>=30:\n",
    "      up[i]=0\n",
    "    if up[i]==0 and particles[i]<=1:\n",
    "      up[i]=1\n",
    "    #decay\n",
    "    particles[i]*=0.9\n",
    "  \n",
    "img = np.zeros((500, 500, 3), dtype=\"uint8\")\n",
    "particles[0]=10\n",
    "graph_particles(img)\n",
    "\n",
    "for i in range(300):\n",
    "  iteration()\n",
    "  img[:]=(0,0,0)\n",
    "  cv2.putText( img,str(i),(20,20),cv2.FONT_HERSHEY_SIMPLEX,1,(255,255,255))\n",
    "  # display.clear_output(wait=True)\n",
    "\n",
    "  graph_particles(img)\n",
    "  pilIm = PIL.Image.fromarray(img, mode=\"RGB\")\n",
    "  with BytesIO() as fOut:\n",
    "      pilIm.save(fOut, format=\"png\")\n",
    "      byPng = fOut.getvalue()\n",
    "        \n",
    "  # set the png bytes as the image value; \n",
    "  # this updates the image in the browser.\n",
    "  wIm.value=byPng  \n",
    "  # time.sleep(0.0)\n",
    "\n",
    "\n"
   ],
   "execution_count": 3,
   "outputs": [
    {
     "data": {
      "text/plain": "Image(value=b'')",
      "application/vnd.jupyter.widget-view+json": {
       "version_major": 2,
       "version_minor": 0,
       "model_id": "1bf37eb61d8e4ab88cc066ebd87fc281"
      }
     },
     "metadata": {},
     "output_type": "display_data"
    },
    {
     "ename": "NameError",
     "evalue": "name 'Image' is not defined",
     "output_type": "error",
     "traceback": [
      "\u001B[1;31m---------------------------------------------------------------------------\u001B[0m",
      "\u001B[1;31mNameError\u001B[0m                                 Traceback (most recent call last)",
      "\u001B[1;32m<ipython-input-3-7323eaf0f8ad>\u001B[0m in \u001B[0;36m<module>\u001B[1;34m\u001B[0m\n\u001B[0;32m     44\u001B[0m \u001B[1;33m\u001B[0m\u001B[0m\n\u001B[0;32m     45\u001B[0m   \u001B[0mgraph_particles\u001B[0m\u001B[1;33m(\u001B[0m\u001B[0mimg\u001B[0m\u001B[1;33m)\u001B[0m\u001B[1;33m\u001B[0m\u001B[1;33m\u001B[0m\u001B[0m\n\u001B[1;32m---> 46\u001B[1;33m   \u001B[0mpilIm\u001B[0m \u001B[1;33m=\u001B[0m \u001B[0mImage\u001B[0m\u001B[1;33m.\u001B[0m\u001B[0mfromarray\u001B[0m\u001B[1;33m(\u001B[0m\u001B[0mimg\u001B[0m\u001B[1;33m,\u001B[0m \u001B[0mmode\u001B[0m\u001B[1;33m=\u001B[0m\u001B[1;34m\"RGB\"\u001B[0m\u001B[1;33m)\u001B[0m\u001B[1;33m\u001B[0m\u001B[1;33m\u001B[0m\u001B[0m\n\u001B[0m\u001B[0;32m     47\u001B[0m   \u001B[1;32mwith\u001B[0m \u001B[0mBytesIO\u001B[0m\u001B[1;33m(\u001B[0m\u001B[1;33m)\u001B[0m \u001B[1;32mas\u001B[0m \u001B[0mfOut\u001B[0m\u001B[1;33m:\u001B[0m\u001B[1;33m\u001B[0m\u001B[1;33m\u001B[0m\u001B[0m\n\u001B[0;32m     48\u001B[0m       \u001B[0mpilIm\u001B[0m\u001B[1;33m.\u001B[0m\u001B[0msave\u001B[0m\u001B[1;33m(\u001B[0m\u001B[0mfOut\u001B[0m\u001B[1;33m,\u001B[0m \u001B[0mformat\u001B[0m\u001B[1;33m=\u001B[0m\u001B[1;34m\"png\"\u001B[0m\u001B[1;33m)\u001B[0m\u001B[1;33m\u001B[0m\u001B[1;33m\u001B[0m\u001B[0m\n",
      "\u001B[1;31mNameError\u001B[0m: name 'Image' is not defined"
     ]
    }
   ]
  }
 ]
}