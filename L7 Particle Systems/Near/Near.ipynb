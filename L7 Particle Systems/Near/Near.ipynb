{
  "nbformat": 4,
  "nbformat_minor": 0,
  "metadata": {
    "colab": {
      "name": "Near.ipynb",
      "provenance": [],
      "collapsed_sections": []
    },
    "kernelspec": {
      "name": "python3",
      "display_name": "Python 3"
    },
    "language_info": {
      "name": "python"
    },
    "widgets": {
      "application/vnd.jupyter.widget-state+json": {
        "739853ad18d74fafa8381eb8b71f0a5a": {
          "model_module": "@jupyter-widgets/controls",
          "model_name": "ImageModel",
          "model_module_version": "1.5.0",
          "state": {
            "_view_name": "ImageView",
            "_dom_classes": [],
            "_model_name": "ImageModel",
            "format": "png",
            "_view_module": "@jupyter-widgets/controls",
            "_model_module_version": "1.5.0",
            "_view_count": null,
            "width": "",
            "_view_module_version": "1.5.0",
            "layout": "IPY_MODEL_22d7aecb16e3491b9faa0d1d1ccbad4d",
            "height": "",
            "_model_module": "@jupyter-widgets/controls"
          }
        },
        "22d7aecb16e3491b9faa0d1d1ccbad4d": {
          "model_module": "@jupyter-widgets/base",
          "model_name": "LayoutModel",
          "model_module_version": "1.2.0",
          "state": {
            "_view_name": "LayoutView",
            "grid_template_rows": null,
            "right": null,
            "justify_content": null,
            "_view_module": "@jupyter-widgets/base",
            "overflow": null,
            "_model_module_version": "1.2.0",
            "_view_count": null,
            "flex_flow": null,
            "width": null,
            "min_width": null,
            "border": null,
            "align_items": null,
            "bottom": null,
            "_model_module": "@jupyter-widgets/base",
            "top": null,
            "grid_column": null,
            "overflow_y": null,
            "overflow_x": null,
            "grid_auto_flow": null,
            "grid_area": null,
            "grid_template_columns": null,
            "flex": null,
            "_model_name": "LayoutModel",
            "justify_items": null,
            "grid_row": null,
            "max_height": null,
            "align_content": null,
            "visibility": null,
            "align_self": null,
            "height": null,
            "min_height": null,
            "padding": null,
            "grid_auto_rows": null,
            "grid_gap": null,
            "max_width": null,
            "order": null,
            "_view_module_version": "1.2.0",
            "grid_template_areas": null,
            "object_position": null,
            "object_fit": null,
            "grid_auto_columns": null,
            "margin": null,
            "display": null,
            "left": null
          }
        }
      }
    }
  },
  "cells": [
    {
      "cell_type": "markdown",
      "metadata": {
        "id": "pE4fjyI2cZwe"
      },
      "source": [
        "# Interacciones entre partículas cercanas"
      ]
    },
    {
      "cell_type": "code",
      "metadata": {
        "id": "MF7Eewb9ewru"
      },
      "source": [
        "import cv2\n",
        "import numpy as np\n",
        "from IPython import display as display\n",
        "\n",
        "import ipywidgets as ipw\n",
        "import PIL\n",
        "from io import BytesIO"
      ],
      "execution_count": null,
      "outputs": []
    },
    {
      "cell_type": "markdown",
      "metadata": {
        "id": "KociThJpdu1N"
      },
      "source": [
        "# Definición de Sistema"
      ]
    },
    {
      "cell_type": "code",
      "metadata": {
        "id": "PzF_eiuVdq7l"
      },
      "source": [
        "NUM_PARTICULAS = 20\n",
        "MAX_X = 450\n",
        "MAX_Y = 450\n",
        "X0 = 50\n",
        "Y0 = 50\n",
        "\n",
        "class System:\n",
        "    def __init__(self):\n",
        "        self.x = np.linspace(X0, MAX_X, NUM_PARTICULAS)\n",
        "        self.y = np.linspace(Y0, MAX_Y, NUM_PARTICULAS)\n",
        "        self.r = np.ones((NUM_PARTICULAS, NUM_PARTICULAS))\n",
        "        self.canIncrease = np.ones((NUM_PARTICULAS, NUM_PARTICULAS))\n",
        "        self.img = np.zeros((500, 500, 3), dtype=\"uint8\")\n",
        "\n",
        "        self.wIm = ipw.Image()\n",
        "        display.display(self.wIm)\n",
        "\n",
        "        self.r[np.random.randint(NUM_PARTICULAS), np.random.randint(NUM_PARTICULAS)] = 3\n",
        "        self.frame = 0\n",
        "        self.graficar()\n",
        "    \n",
        "    def actualizar_particulas(self):\n",
        "        for i in range(NUM_PARTICULAS-1):\n",
        "            for k in range(NUM_PARTICULAS-1):\n",
        "                if 0<i<NUM_PARTICULAS and 0<k<NUM_PARTICULAS and self.canIncrease[i, k]==1:\n",
        "                    self.r[i, k] += 0.05*self.r[i-1, k] + 0.05*self.r[i+1, k]\n",
        "                    self.r[i, k] += 0.05*self.r[i, k-1] + 0.05*self.r[i, k+1]\n",
        "                \n",
        "                if self.canIncrease[i, k]==1 and self.r[i, k] >= 8:\n",
        "                    self.canIncrease[i, k] = 0\n",
        "                if self.canIncrease[i, k]==0 and self.r[i, k] <= 3:\n",
        "                    self.canIncrease[i, k] = 1\n",
        "                \n",
        "                #decay\n",
        "                self.r[i, k] *= 0.9\n",
        "\n",
        "\n",
        "    def graficar(self):\n",
        "        r=1\n",
        "        color = (255,255,255)\n",
        "\n",
        "        for i in range(len(self.x)):\n",
        "            x = self.x[i]\n",
        "            for k in range(len(self.y)):\n",
        "                y = self.y[k]\n",
        "                cv2.circle(self.img, (int(x), int(y)), int(r+self.r[i, k]), color, -1)\n",
        "\n",
        "\n",
        "    def iterar(self):\n",
        "        self.frame += 1\n",
        "        self.actualizar_particulas()\n",
        "        self.img[:] = (0,0,0)\n",
        "        cv2.putText(self.img, str(self.frame), (20,20), cv2.FONT_HERSHEY_SIMPLEX, 1, (255,255,255))\n",
        "\n",
        "        self.graficar()\n",
        "        pilIm = PIL.Image.fromarray(self.img, mode=\"RGB\")\n",
        "        with BytesIO() as fOut:\n",
        "            pilIm.save(fOut, format=\"png\")\n",
        "            byPng = fOut.getvalue()\n",
        "                \n",
        "        # set the png bytes as the image value; \n",
        "        # this updates the image in the browser.\n",
        "        self.wIm.value=byPng\n",
        "            "
      ],
      "execution_count": null,
      "outputs": []
    },
    {
      "cell_type": "code",
      "metadata": {
        "colab": {
          "base_uri": "https://localhost:8080/",
          "height": 525,
          "referenced_widgets": [
            "739853ad18d74fafa8381eb8b71f0a5a",
            "22d7aecb16e3491b9faa0d1d1ccbad4d"
          ]
        },
        "id": "L5kZHkjJoz_m",
        "outputId": "53aef230-1316-461c-be62-45f777f9bbca"
      },
      "source": [
        "s = System()\n",
        "\n",
        "for _ in range(300):\n",
        "    s.actualizar_particulas()\n",
        "    s.iterar()"
      ],
      "execution_count": null,
      "outputs": [
        {
          "output_type": "display_data",
          "data": {
            "application/vnd.jupyter.widget-view+json": {
              "model_id": "739853ad18d74fafa8381eb8b71f0a5a",
              "version_minor": 0,
              "version_major": 2
            },
            "text/plain": [
              "Image(value=b'')"
            ]
          },
          "metadata": {}
        }
      ]
    }
  ]
}