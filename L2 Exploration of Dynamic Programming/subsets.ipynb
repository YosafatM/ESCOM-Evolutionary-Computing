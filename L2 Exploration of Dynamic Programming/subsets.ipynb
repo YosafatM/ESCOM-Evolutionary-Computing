{
 "cells": [
  {
   "cell_type": "markdown",
   "source": [
    "# Dynamic Programming: Set partition (of same sum)"
   ],
   "metadata": {
    "collapsed": false
   }
  },
  {
   "cell_type": "code",
   "execution_count": 30,
   "metadata": {
    "collapsed": true
   },
   "outputs": [
    {
     "name": "stdout",
     "output_type": "stream",
     "text": [
      "[[1. 1. 1. 1. 1. 1.]\n",
      " [0. 0. 0. 1. 1. 1.]\n",
      " [0. 0. 0. 0. 0. 1.]\n",
      " [0. 0. 1. 1. 1. 1.]\n",
      " [0. 0. 0. 1. 1. 1.]\n",
      " [0. 0. 0. 0. 1. 1.]\n",
      " [0. 1. 1. 1. 1. 1.]\n",
      " [0. 0. 0. 1. 1. 1.]\n",
      " [0. 0. 0. 0. 1. 1.]]\n",
      "\n",
      "Set split:\n",
      "[4 1 3]\n",
      "[2 6]\n"
     ]
    }
   ],
   "source": [
    "import numpy as np\n",
    "\n",
    "# Section 1: Data definition\n",
    "principal_set = np.array([6, 3, 1, 4, 2])\n",
    "total = np.sum(principal_set)\n",
    "num_of_elements = len(principal_set)\n",
    "\n",
    "could_be_solvable = True if total % 2 == 0 else False\n",
    "\n",
    "if could_be_solvable:\n",
    "    total = int(total / 2)\n",
    "    matrix = np.zeros(shape=(total+1, num_of_elements+1))\n",
    "    matrix[0] = [1] * (num_of_elements+1)\n",
    "\n",
    "    # Section 2: Dynamic programming\n",
    "    for row in range(1, total+1):\n",
    "        for col in range(1, num_of_elements+1):\n",
    "            matrix[row][col] = matrix[row][col-1]    # If the adjacent is 1, then is possible\n",
    "\n",
    "            if row >= principal_set[col-1]:\n",
    "                if matrix[row][col] == 1 or matrix[row - principal_set[col-1]][col-1] == 1:\n",
    "                    matrix[row][col] = 1\n",
    "                else:\n",
    "                    matrix[row][col] = 0\n",
    "\n",
    "    # Section 3: Answer search\n",
    "    target_col = None\n",
    "    target_row = total    # Last at first\n",
    "    solution = list()\n",
    "\n",
    "    for col in range(1, num_of_elements+1):\n",
    "        if matrix[target_row][col] == 1:\n",
    "            target_col = col\n",
    "            break\n",
    "\n",
    "    if target_col is None:\n",
    "        print(\"The set cannot be split into 2 sets of the same sum\")\n",
    "    else:\n",
    "        while target_row != 0:\n",
    "            if matrix[target_row][target_col -1] == 1:\n",
    "                target_col = target_col - 1\n",
    "                continue\n",
    "\n",
    "            solution.append(principal_set[target_col-1])\n",
    "            target_row = target_row - principal_set[target_col-1]\n",
    "\n",
    "    # Section 4: Answer report\n",
    "    print(matrix)\n",
    "\n",
    "    if len(solution) > 0:\n",
    "        print('\\nSet split:')\n",
    "        print(np.array(solution))\n",
    "        print(np.setdiff1d(principal_set, solution))\n",
    "else:\n",
    "    print(\"The set cannot be split into 2 sets of the same sum\")"
   ]
  }
 ],
 "metadata": {
  "kernelspec": {
   "display_name": "Python 3",
   "language": "python",
   "name": "python3"
  },
  "language_info": {
   "codemirror_mode": {
    "name": "ipython",
    "version": 2
   },
   "file_extension": ".py",
   "mimetype": "text/x-python",
   "name": "python",
   "nbconvert_exporter": "python",
   "pygments_lexer": "ipython2",
   "version": "2.7.6"
  }
 },
 "nbformat": 4,
 "nbformat_minor": 0
}