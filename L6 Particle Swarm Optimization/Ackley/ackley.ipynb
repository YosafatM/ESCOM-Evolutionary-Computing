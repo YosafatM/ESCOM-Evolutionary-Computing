{
 "cells": [
  {
   "cell_type": "markdown",
   "metadata": {
    "collapsed": true,
    "pycharm": {
     "name": "#%% md\n"
    }
   },
   "source": [
    "# Optimización de Ackley por Enjambre de Partículas\n",
    "## Definición de la función"
   ]
  },
  {
   "cell_type": "code",
   "source": [
    "import numpy as np\n",
    "\n",
    "K_DIMENSION = 2\n",
    "K_A = 20\n",
    "K_B = 0.2\n",
    "K_C = 2 * np.pi\n",
    "\n",
    "def ackley(*args: np.ndarray) -> np.ndarray:\n",
    "    valores = np.array([args[i] for i in range(0, len(args))])\n",
    "    valores = valores.transpose() if valores.shape[0] > 1 else valores\n",
    "    radicando = 1/K_DIMENSION * np.sum(np.power(valores, 2), axis=-1)\n",
    "    exponente = 1/K_DIMENSION * np.sum(np.cos(K_C * valores))\n",
    "\n",
    "    return -K_A * np.exp(-K_B * np.sqrt(radicando)) - np.exp(exponente) + K_A + np.exp(1)"
   ],
   "metadata": {
    "collapsed": false,
    "pycharm": {
     "name": "#%%\n"
    }
   },
   "execution_count": 36,
   "outputs": []
  },
  {
   "cell_type": "markdown",
   "source": [
    "# Definición de Partícula"
   ],
   "metadata": {
    "collapsed": false
   }
  },
  {
   "cell_type": "code",
   "execution_count": 37,
   "outputs": [],
   "source": [
    "K_LIMITE_SUPERIOR = 33\n",
    "K_LIMITE_INFERIOR = -33\n",
    "\n",
    "class Particle:\n",
    "    def __init__(self):\n",
    "        dominio = K_LIMITE_SUPERIOR - K_LIMITE_INFERIOR\n",
    "\n",
    "        self._dimension = K_DIMENSION\n",
    "        self.coordenadas = K_LIMITE_INFERIOR + dominio*np.random.random(size=self._dimension)\n",
    "        self.memoria = np.copy(self.coordenadas)\n",
    "        self.velocidad = -dominio/2 + dominio*np.random.random(size=self._dimension)\n",
    "\n",
    "    def __str__(self):\n",
    "        return str(self.coordenadas)\n",
    "\n",
    "    def to_evaluate(self, use_coors=True):\n",
    "        if use_coors:\n",
    "            return [np.array(self.coordenadas[dim]) for dim in range(self._dimension)]\n",
    "        else:\n",
    "            return [np.array(self.memoria[dim]) for dim in range(self._dimension)]\n",
    "\n",
    "    def get(self, index: int):\n",
    "        return self.coordenadas[index]\n"
   ],
   "metadata": {
    "collapsed": false,
    "pycharm": {
     "name": "#%%\n"
    }
   }
  },
  {
   "cell_type": "markdown",
   "source": [
    "# Definición de Enjambre"
   ],
   "metadata": {
    "collapsed": false
   }
  },
  {
   "cell_type": "code",
   "execution_count": 38,
   "outputs": [],
   "source": [
    "from typing import Callable\n",
    "\n",
    "K_COEFICIENTE_PESO = 0.5\n",
    "K_COEFICIENTE_MEMORIA = 0.3\n",
    "K_COEFICIENTE_LIDER = 0.2\n",
    "\n",
    "class Swarm:\n",
    "    def __init__(self, num_particulas: int, function: Callable[..., np.ndarray]):\n",
    "        self._num_particulas = num_particulas\n",
    "        self._poblacion = [Particle() for _ in range(num_particulas)]\n",
    "        self._coef_peso = 0.5\n",
    "        self._num_generacion = 0\n",
    "        self._function = function\n",
    "        self._init_best()\n",
    "\n",
    "    def _init_best(self):\n",
    "        self._mejor : Particle\n",
    "        salida = self._evaluar()\n",
    "        index = salida.argmin()\n",
    "        self._mejor = self._poblacion[index]\n",
    "\n",
    "    def _evaluar(self) -> np.ndarray:\n",
    "        coordenadas = self._get_coordenadas()\n",
    "        return self._function(*coordenadas)\n",
    "\n",
    "    def _get_coordenadas(self) -> list[np.ndarray]:\n",
    "        return [np.array([particula.get(dim) for particula in self._poblacion]) for dim in range(K_DIMENSION)]\n",
    "\n",
    "    def _actualizar_particula(self, particula: Particle):\n",
    "        actual = self._function(*particula.to_evaluate(use_coors=True))\n",
    "        ultimo_mejor = self._function(particula.to_evaluate(use_coors=False))\n",
    "\n",
    "        if actual < ultimo_mejor:\n",
    "            particula.memoria = np.copy(particula.coordenadas)\n",
    "            mejor_del_enjambre = self._function(self._mejor.to_evaluate(use_coors=False))\n",
    "\n",
    "            if ultimo_mejor < mejor_del_enjambre:\n",
    "                self._mejor = particula\n",
    "\n",
    "    def iterar(self):\n",
    "        self._num_generacion += 1\n",
    "        self._print_generation()\n",
    "\n",
    "        for particula_index in range(self._num_particulas):\n",
    "            particula: Particle = self._poblacion[particula_index]\n",
    "\n",
    "            for dim in range(K_DIMENSION):\n",
    "                coef_inercia = K_COEFICIENTE_PESO * particula.velocidad[dim]\n",
    "                coef_memoria = K_COEFICIENTE_MEMORIA * np.random.random() * (particula.memoria[dim] - particula.coordenadas[dim])\n",
    "                coef_lider = K_COEFICIENTE_LIDER * np.random.random() * (self._mejor.memoria[dim] - particula.coordenadas[dim])\n",
    "\n",
    "                particula.velocidad[dim] = coef_inercia + coef_memoria + coef_lider\n",
    "                particula.coordenadas[dim] = particula.coordenadas[dim] + particula.velocidad[dim]\n",
    "\n",
    "            self._actualizar_particula(particula)\n",
    "\n",
    "    def _print_generation(self):\n",
    "        valor = self._function(self._mejor.to_evaluate(use_coors=False))\n",
    "\n",
    "        print(f\"Generation {self._num_generacion}\")\n",
    "        print(\"Best so far:\")\n",
    "        print(f\"Coordenates: {self._mejor}\")\n",
    "        print(f\"Function value: {valor}\")"
   ],
   "metadata": {
    "collapsed": false,
    "pycharm": {
     "name": "#%%\n"
    }
   }
  },
  {
   "cell_type": "markdown",
   "source": [
    "# Optimización\n",
    "## Inicialización"
   ],
   "metadata": {
    "collapsed": false
   }
  },
  {
   "cell_type": "code",
   "execution_count": 39,
   "outputs": [],
   "source": [
    "K_NUM_PARTICULAS = 10\n",
    "enjambre = Swarm(K_NUM_PARTICULAS, ackley)"
   ],
   "metadata": {
    "collapsed": false,
    "pycharm": {
     "name": "#%%\n"
    }
   }
  },
  {
   "cell_type": "markdown",
   "source": [
    "## Iteración"
   ],
   "metadata": {
    "collapsed": false
   }
  },
  {
   "cell_type": "code",
   "execution_count": 89,
   "outputs": [
    {
     "name": "stdout",
     "output_type": "stream",
     "text": [
      "Generation 50\n",
      "Best so far:\n",
      "Coordenates: [0.00255876 0.0684681 ]\n",
      "Function value: [0.314086]\n"
     ]
    }
   ],
   "source": [
    "enjambre.iterar()"
   ],
   "metadata": {
    "collapsed": false,
    "pycharm": {
     "name": "#%%\n"
    }
   }
  }
 ],
 "metadata": {
  "kernelspec": {
   "display_name": "Python 3",
   "language": "python",
   "name": "python3"
  },
  "language_info": {
   "codemirror_mode": {
    "name": "ipython",
    "version": 2
   },
   "file_extension": ".py",
   "mimetype": "text/x-python",
   "name": "python",
   "nbconvert_exporter": "python",
   "pygments_lexer": "ipython2",
   "version": "2.7.6"
  }
 },
 "nbformat": 4,
 "nbformat_minor": 0
}