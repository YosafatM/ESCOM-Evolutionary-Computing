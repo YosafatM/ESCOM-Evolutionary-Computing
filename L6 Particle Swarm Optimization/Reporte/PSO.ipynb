{
 "nbformat": 4,
 "nbformat_minor": 0,
 "metadata": {
  "colab": {
   "name": "PSO.ipynb",
   "provenance": []
  },
  "kernelspec": {
   "name": "python3",
   "display_name": "Python 3"
  },
  "language_info": {
   "name": "python"
  }
 },
 "cells": [
  {
   "cell_type": "code",
   "metadata": {
    "id": "0bXnavgnUP4z"
   },
   "source": [
    "#File: pso_wikipedia.ipynb\n",
    "#Example of PSO based on the wikipedia entry\n",
    "#Dr. Jorge Luis Rosas Trigueros\n",
    "#Last modification: 12 oct 2021 16:55 \n",
    "\n",
    "import ipywidgets as widgets\n",
    "from IPython import display as display\n",
    "\n",
    "import matplotlib.pyplot as plt\n",
    "import numpy as np\n",
    "\n",
    "def create_button():\n",
    "  button = widgets.Button(\n",
    "    description='Next Iteration',\n",
    "    disabled=False,\n",
    "    button_style='', # 'success', 'info', 'warning', 'danger' or ''\n",
    "    tooltip='Next Iteration',\n",
    "    icon='check' # (FontAwesome names without the `fa-` prefix)\n",
    "  )\n",
    "  return button\n",
    "\n",
    "lower_limit=-20\n",
    "upper_limit=20\n",
    "\n",
    "n_particles=10\n",
    "n_dimensions=1\n",
    "\n",
    "\n",
    "def f(x):\n",
    "    return 0.05*x*x-4*np.cos(x)\n",
    "\n",
    "\n",
    "# Initialize the particle positions and their velocities\n",
    "#X = lower_limit + (upper_limit - lower_limit) * np.random.rand(n_particles, n_dimensions) \n",
    "#Bias the initial population\n",
    "X = lower_limit + 0.25*(upper_limit - lower_limit) * np.random.rand(n_particles, n_dimensions) \n",
    "assert X.shape == (n_particles, n_dimensions)\n",
    "# V = np.zeros(X.shape)\n",
    "V = -(upper_limit - lower_limit)/2+(upper_limit - lower_limit)*np.random.rand(n_particles, n_dimensions)\n",
    " \n",
    "# Initialize the global and local fitness to the worst possible\n",
    "fitness_gbest = np.inf\n",
    "fitness_lbest = fitness_gbest * np.ones(n_particles)\n",
    "\n",
    "X_lbest=1*X\n",
    "X_gbest=1*X_lbest[0]\n",
    "\n",
    "fitness_X = np.zeros(X.shape)\n",
    "\n",
    "for I in range(0, n_particles):\n",
    "    if f(X_lbest[I])<f(X_gbest):\n",
    "        X_gbest=1*X_lbest[I]\n",
    "\n",
    "count=0\n",
    "\n",
    "def iteration(b):\n",
    "    global count\n",
    "    global X,X_lbest,X_gbest,V\n",
    "\n",
    "# Loop until convergence, in this example a finite number of iterations chosen\n",
    "    weight=0.5\n",
    "    C1=0.3\n",
    "\n",
    "    C2=0.2\n",
    " \n",
    "    display.clear_output(wait=True)\n",
    "    display.display(button)\n",
    "    count+=1\n",
    "\n",
    "    print (count,\"Best particle in:\",X_gbest,\" gbest: \",f(X_gbest))\n",
    "\n",
    "    # Update the particle velocity and position\n",
    "    for I in range(0, n_particles):\n",
    "        for J in range(0, n_dimensions):\n",
    "          R1 = np.random.rand()#uniform_random_number()\n",
    "          R2 = np.random.rand()#uniform_random_number()\n",
    "          V[I][J] = (weight*V[I][J]\n",
    "                    + C1*R1*(X_lbest[I][J] - X[I][J]) \n",
    "                    + C2*R2*(X_gbest[J] - X[I][J]))\n",
    "          X[I][J] = X[I][J] + V[I][J]\n",
    "        if f(X[I])<f(X_lbest[I]):\n",
    "            X_lbest[I]=1*X[I]\n",
    "            if f(X_lbest[I])<f(X_gbest):\n",
    "                X_gbest=1*X_lbest[I]\n",
    "          \n",
    "    graph_f()\n",
    "    graph_population(X,V)\n",
    "\n",
    "global_fig = plt.figure()\n",
    "ax = plt.axes()\n",
    "\n",
    "def graph_f():\n",
    "    xini=-20.\n",
    "    xfin=20.\n",
    "    x=np.linspace(xini,xfin,100)\n",
    "    y=list(map(f,x))\n",
    "    plt.plot(x,y,'b')\n",
    "\n",
    "def graph_population(X,V):\n",
    "    y=list(map(f,X[:,0]))\n",
    "\n",
    "    graph_f()\n",
    "    plt.plot(X[:,0],y,'go')\n",
    "    plt.plot(X_gbest,f(X_gbest),'r*',markersize=15)\n",
    "    for i in range(n_particles):\n",
    "      x=X[i]\n",
    "      v=V[i]\n",
    "      plt.plot([x,x+2*v],[y[i],y[i]],'c')\n",
    "\n",
    "button=create_button()\n",
    "button.on_click(iteration)\n",
    "display.display(button)\n",
    "\n",
    "graph_population(X,V)\n"
   ],
   "execution_count": 2,
   "outputs": [
    {
     "data": {
      "text/plain": "Button(description='Next Iteration', icon='check', style=ButtonStyle(), tooltip='Next Iteration')",
      "application/vnd.jupyter.widget-view+json": {
       "version_major": 2,
       "version_minor": 0,
       "model_id": "0efebad78993470f8ab1b512bec7b4ab"
      }
     },
     "metadata": {},
     "output_type": "display_data"
    },
    {
     "data": {
      "text/plain": "<Figure size 432x288 with 1 Axes>",
      "image/png": "[encoded data removed]"
     },
     "metadata": {
      "needs_background": "light"
     },
     "output_type": "display_data"
    }
   ]
  }
 ]
}