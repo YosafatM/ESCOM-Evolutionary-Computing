{
 "cells": [
  {
   "cell_type": "code",
   "execution_count": 1,
   "metadata": {
    "collapsed": true
   },
   "outputs": [
    {
     "ename": "ModuleNotFoundError",
     "evalue": "No module named 'cv2'",
     "output_type": "error",
     "traceback": [
      "\u001B[1;31m---------------------------------------------------------------------------\u001B[0m",
      "\u001B[1;31mModuleNotFoundError\u001B[0m                       Traceback (most recent call last)",
      "\u001B[1;32m~\\AppData\\Local\\Temp/ipykernel_15444/906188970.py\u001B[0m in \u001B[0;36m<module>\u001B[1;34m\u001B[0m\n\u001B[1;32m----> 1\u001B[1;33m \u001B[1;32mimport\u001B[0m \u001B[0mcv2\u001B[0m\u001B[1;33m\u001B[0m\u001B[1;33m\u001B[0m\u001B[0m\n\u001B[0m\u001B[0;32m      2\u001B[0m \u001B[1;32mimport\u001B[0m \u001B[0mnumpy\u001B[0m \u001B[1;32mas\u001B[0m \u001B[0mnp\u001B[0m\u001B[1;33m\u001B[0m\u001B[1;33m\u001B[0m\u001B[0m\n\u001B[0;32m      3\u001B[0m \u001B[1;32mfrom\u001B[0m \u001B[0mgoogle\u001B[0m\u001B[1;33m.\u001B[0m\u001B[0mcolab\u001B[0m\u001B[1;33m.\u001B[0m\u001B[0mpatches\u001B[0m \u001B[1;32mimport\u001B[0m \u001B[0mcv2_imshow\u001B[0m\u001B[1;33m\u001B[0m\u001B[1;33m\u001B[0m\u001B[0m\n\u001B[0;32m      4\u001B[0m \u001B[1;32mimport\u001B[0m \u001B[0mmath\u001B[0m\u001B[1;33m\u001B[0m\u001B[1;33m\u001B[0m\u001B[0m\n",
      "\u001B[1;31mModuleNotFoundError\u001B[0m: No module named 'cv2'"
     ]
    }
   ],
   "source": [
    "import opencv_python as cv2\n",
    "import numpy as np\n",
    "import math"
   ]
  },
  {
   "cell_type": "code",
   "execution_count": null,
   "outputs": [],
   "source": [
    "def ec(img,x,y,l,a,sl,da,n):\n",
    "    if n==0:\n",
    "        return\n",
    "\n",
    "    # color='black'\n",
    "\n",
    "    # if n>5:\n",
    "    #     color='brown'\n",
    "    # elif n>2:\n",
    "    #     color='green'\n",
    "    # elif n>0:\n",
    "    #     color='white'\n",
    "\n",
    "    x2=x+l\n",
    "    y2=y\n",
    "    ar=math.radians(a)\n",
    "\n",
    "    coseno=math.cos(ar)\n",
    "    seno=math.sin(ar)\n",
    "    xrot= (x2-x)*seno + (y2-y)*coseno\n",
    "    yrot= (x2-x)*coseno - (y2-y)*seno\n",
    "\n",
    "    x2=xrot + x\n",
    "    y2=yrot + y\n",
    "\n",
    "    cv2.line(img, (int(x),int(y)), (int(x2),int(y2)), (255,255,255), (1))\n",
    "##1\n",
    "    ec(img,x2,y2,l*sl,a-da,sl,da,n-1)\n",
    "    ec(img,x2,y2,l*sl,a+da,sl,da,n-1)\n",
    "    ec(img,x2,y2,l*sl,a,sl,da,n-1)\n",
    "\n",
    "##2\n",
    "    # ec(img,x,y,l*sl,a-da,sl,da,n-1)\n",
    "\n",
    "##3\n",
    "    # if(y>280):return\n",
    "    # ec(img,x2,y2,l*sl,a-da,sl,da,n-1)\n",
    "    # ec(img,x2,y2,l*sl,a-2*da,sl,da,n-1)\n",
    "    # ec(img,x2,y2,l*sl,a-3*da,sl,da,n-1)\n",
    "\n",
    "##4\n",
    "    # cv2.circle(img,(int(x),int(y)),int(l),(255,255,255),-1)\n",
    "    # cv2.circle(img,(int(x),int(y)),int(l),(0,0,0),1)\n",
    "    # ec(img,x2,y2,l*sl,a-da,sl,da,n-1)\n",
    "    # ec(img,x2,y2,l*sl,a-2*da,sl,da,n-1)\n",
    "    # ec(img,x2,y2,l*sl,a-3*da,sl,da,n-1)\n",
    "\n",
    "##5\n",
    "    # ec(img,x2,y2,l+sl,a+da,sl,da,n-1)\n",
    "    return\n",
    "\n",
    "img = np.zeros((500, 500, 3), dtype=\"uint8\")\n",
    "##1\n",
    "ec(img,250,480,150,180,0.7,20,8)\n",
    "\n",
    "##2\n",
    "# ec(img,250,250,150,180,0.97,33,50)\n",
    "\n",
    "##3\n",
    "# ec(img,10,280,150,120,0.8,20,5)\n",
    "\n",
    "##4\n",
    "# ec(img,10,180,150,120,0.8,30,7)\n",
    "\n",
    "##5\n",
    "# ec(img,150,350,10,30,1,50,250)\n",
    "\n",
    "cv2_imshow(img)"
   ],
   "metadata": {
    "collapsed": false,
    "pycharm": {
     "name": "#%%\n"
    }
   }
  }
 ],
 "metadata": {
  "kernelspec": {
   "display_name": "Python 3",
   "language": "python",
   "name": "python3"
  },
  "language_info": {
   "codemirror_mode": {
    "name": "ipython",
    "version": 2
   },
   "file_extension": ".py",
   "mimetype": "text/x-python",
   "name": "python",
   "nbconvert_exporter": "python",
   "pygments_lexer": "ipython2",
   "version": "2.7.6"
  }
 },
 "nbformat": 4,
 "nbformat_minor": 0
}