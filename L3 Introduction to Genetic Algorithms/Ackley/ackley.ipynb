{
 "cells": [
  {
   "cell_type": "markdown",
   "metadata": {
    "collapsed": true,
    "pycharm": {
     "name": "#%% md\n"
    }
   },
   "source": [
    "# Minimización de Ackley en 2 dimensiones (dos variables)\n",
    "## Definición de la función\n",
    "Usando la función de Rastrigin definida como:"
   ]
  },
  {
   "cell_type": "code",
   "execution_count": 144,
   "outputs": [],
   "source": [
    "import numpy as np\n",
    "\n",
    "K_A = 20\n",
    "K_B = 0.2\n",
    "K_C = 2 * np.pi\n",
    "\n",
    "def ackley(x: np.ndarray, y: np.ndarray) -> np.ndarray:\n",
    "    return -K_A * np.exp(-K_B * np.sqrt(0.5 * (np.power(x, 2) + np.power(y, 2)))) \\\n",
    "           -np.exp(0.5 * (np.cos(K_C * x) + np.cos(K_C * y))) \\\n",
    "           + K_A + np.exp(1)"
   ],
   "metadata": {
    "collapsed": false,
    "pycharm": {
     "name": "#%%\n"
    }
   }
  },
  {
   "cell_type": "markdown",
   "source": [
    "## Definición de cromosoma\n",
    "Se compone unicamente por los números que representa, el dominio usual de la función de Rastrigin es de -5.12 a 5.12, por eso vamos a dividir el valor entero entre 100."
   ],
   "metadata": {
    "collapsed": false
   }
  },
  {
   "cell_type": "code",
   "execution_count": 145,
   "outputs": [],
   "source": [
    "BITS = 10\n",
    "DIVISION = 100\n",
    "POWERS = np.array([2 ** i for i in range(BITS-2, -1, -1)])\n",
    "\n",
    "class Cromosoma:\n",
    "    \"\"\"\n",
    "    Se conforma por dos listas de bits, sirven como index lógico de POWERS\n",
    "    \"\"\"\n",
    "    def __init__(self, *args):\n",
    "        if len(args) == 0:\n",
    "            self.x = np.array([np.random.choice([0, 1], p=[0.3, 0.7]) for i in range(0, BITS)])\n",
    "            self.y = np.array([np.random.choice([0, 1], p=[0.3, 0.7]) for i in range(0, BITS)])\n",
    "        else:\n",
    "            self.x = args[0]\n",
    "            self.y = args[1]\n",
    "\n",
    "    def __str__(self):\n",
    "        return f'\\n\\tx:{self.x} \\n\\ty:{self.y}'\n",
    "\n",
    "\n",
    "    def to_int(self, index):\n",
    "        if index == 0:\n",
    "            signo = 1 if self.x[0] == 0 else -1\n",
    "            index = self.x[1:] == 1\n",
    "            return signo * np.sum(POWERS[index]) / DIVISION\n",
    "        elif index == 1:\n",
    "            signo = 1 if self.y[0] == 0 else -1\n",
    "            index = self.y[1:] == 1\n",
    "            return signo * np.sum(POWERS[index]) / DIVISION\n",
    "\n",
    "    @staticmethod\n",
    "    def crossover(c1, c2):\n",
    "        mitad = int(BITS / 2)\n",
    "        x1 = np.append(c1.x[0:mitad], c2.x[mitad:], axis=None)\n",
    "        x2 = np.append(c2.x[0:mitad], c1.x[mitad:], axis=None)\n",
    "        y1 = np.append(c1.y[0:mitad], c2.y[mitad:], axis=None)\n",
    "        y2 = np.append(c2.y[0:mitad], c1.y[mitad:], axis=None)\n",
    "        return [Cromosoma(x1, y1), Cromosoma(x2, y2)]\n",
    "\n",
    "    @staticmethod\n",
    "    def mutar(c):\n",
    "        index = np.random.randint(low=1, high=len(c.x))\n",
    "        c.x[index] = 1 - c.x[index]\n",
    "        index = np.random.randint(low=1, high=len(c.y))\n",
    "        c.y[index] = 1 - c.y[index]\n",
    "        return c\n"
   ],
   "metadata": {
    "collapsed": false,
    "pycharm": {
     "name": "#%%\n"
    }
   }
  },
  {
   "cell_type": "markdown",
   "source": [
    "## Definición de presión selectiva"
   ],
   "metadata": {
    "collapsed": false
   }
  },
  {
   "cell_type": "code",
   "execution_count": 146,
   "outputs": [],
   "source": [
    "K_POBLACION = 10\n",
    "K_BASE = 2\n",
    "\n",
    "def presion_selectiva(poblacion: list[Cromosoma]) -> list[Cromosoma]:\n",
    "    # Evaluación y búsqueda del mejor\n",
    "    x = np.array([c.to_int(0) for c in poblacion])\n",
    "    y = np.array([c.to_int(1) for c in poblacion])\n",
    "    evaluacion = ackley(x, y)\n",
    "\n",
    "    best = evaluacion.argmin()\n",
    "    print(\"Best so far:\")\n",
    "    print(\"Value: \" + str(poblacion[best]))\n",
    "    print(f\"Integer value: {x[best]}, {y[best]}\")\n",
    "    print(\"Rastrigin function value: \" + str(evaluacion[best]))\n",
    "\n",
    "    # Cálculo de probabilidades\n",
    "    indice_ordenado = evaluacion.argsort()\n",
    "    ruleta = []\n",
    "    potencia = K_POBLACION\n",
    "\n",
    "    for i in indice_ordenado:\n",
    "        probabilidad = K_BASE ** potencia\n",
    "        ruleta.extend([i] * probabilidad)\n",
    "        potencia -= 1\n",
    "\n",
    "    # Nueva generación\n",
    "    nueva = list[Cromosoma]()\n",
    "    nueva.append(poblacion[indice_ordenado[0]])\n",
    "    nueva.append(poblacion[indice_ordenado[1]])\n",
    "\n",
    "    for i in range(2, int(K_POBLACION/2)):\n",
    "        c1 = poblacion[np.random.choice(ruleta)]\n",
    "        c2 = poblacion[np.random.choice(ruleta)]\n",
    "        hijos = Cromosoma.crossover(c1, c2)\n",
    "\n",
    "        hijos[0] = Cromosoma.mutar(hijos[0])\n",
    "        hijos[1] = Cromosoma.mutar(hijos[1])\n",
    "\n",
    "        nueva.extend(hijos)\n",
    "\n",
    "    return nueva"
   ],
   "metadata": {
    "collapsed": false,
    "pycharm": {
     "name": "#%%\n"
    }
   }
  },
  {
   "cell_type": "markdown",
   "source": [
    "## Ciclo de vida"
   ],
   "metadata": {
    "collapsed": false
   }
  },
  {
   "cell_type": "code",
   "execution_count": 147,
   "outputs": [],
   "source": [
    "poblacion = list[Cromosoma]()\n",
    "nueva_poblacion = list[Cromosoma]()\n",
    "generacion = 0"
   ],
   "metadata": {
    "collapsed": false,
    "pycharm": {
     "name": "#%%\n"
    }
   }
  },
  {
   "cell_type": "code",
   "execution_count": 186,
   "outputs": [
    {
     "name": "stdout",
     "output_type": "stream",
     "text": [
      "Generatión 38\n",
      "Best so far:\n",
      "Value: \n",
      "\tx:[1 0 0 0 0 0 0 0 1 1] \n",
      "\ty:[1 0 0 0 0 0 0 0 0 0]\n",
      "Integer value: -0.03, 0.0\n",
      "Rastrigin function value: 0.10864089956128753\n"
     ]
    }
   ],
   "source": [
    "if len(nueva_poblacion) == 0:\n",
    "    poblacion = [Cromosoma() for _ in range(0, K_POBLACION)]\n",
    "else:\n",
    "    poblacion = nueva_poblacion\n",
    "\n",
    "print('Generatión', generacion)\n",
    "nueva_poblacion = presion_selectiva(poblacion)\n",
    "generacion += 1"
   ],
   "metadata": {
    "collapsed": false,
    "pycharm": {
     "name": "#%%\n"
    }
   }
  }
 ],
 "metadata": {
  "kernelspec": {
   "display_name": "Python 3",
   "language": "python",
   "name": "python3"
  },
  "language_info": {
   "codemirror_mode": {
    "name": "ipython",
    "version": 2
   },
   "file_extension": ".py",
   "mimetype": "text/x-python",
   "name": "python",
   "nbconvert_exporter": "python",
   "pygments_lexer": "ipython2",
   "version": "2.7.6"
  }
 },
 "nbformat": 4,
 "nbformat_minor": 0
}