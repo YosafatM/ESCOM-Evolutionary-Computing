{
 "cells": [
  {
   "cell_type": "markdown",
   "metadata": {
    "collapsed": true,
    "pycharm": {
     "name": "#%% md\n"
    }
   },
   "source": [
    "# Minimización de Rastrigin en 3 dimensiones (tres variables)\n",
    "## Definición de la función\n",
    "Usando la función de Rastrigin definida como:"
   ]
  },
  {
   "cell_type": "code",
   "execution_count": 26,
   "outputs": [],
   "source": [
    "import numpy as np\n",
    "\n",
    "K_A = 10\n",
    "\n",
    "def rastrigin(x: np.ndarray, y: np.ndarray, z: np.ndarray) -> np.ndarray:\n",
    "    return K_A * 3 \\\n",
    "           + np.power(x, 2) - K_A * np.cos(2*np.pi * x) \\\n",
    "           + np.power(y, 2) - K_A * np.cos(2*np.pi * y) \\\n",
    "           + np.power(z, 2) - K_A * np.cos(2*np.pi * z)"
   ],
   "metadata": {
    "collapsed": false,
    "pycharm": {
     "name": "#%%\n"
    }
   }
  },
  {
   "cell_type": "markdown",
   "source": [
    "## Definición de cromosoma\n",
    "Se compone unicamente por los números que representa, el dominio usual de la función de Rastrigin es de -5.12 a 5.12, por eso vamos a dividir el valor entero entre 100."
   ],
   "metadata": {
    "collapsed": false
   }
  },
  {
   "cell_type": "code",
   "execution_count": 27,
   "outputs": [],
   "source": [
    "BITS = 10\n",
    "DIVISION = 100\n",
    "POWERS = np.array([2 ** i for i in range(BITS-2, -1, -1)])\n",
    "\n",
    "class Cromosoma:\n",
    "    \"\"\"\n",
    "    Se conforma por dos listas de bits, sirven como index lógico de POWERS\n",
    "    \"\"\"\n",
    "    def __init__(self, *args):\n",
    "        if len(args) == 0:\n",
    "            self.x = np.array([np.random.choice([0, 1]) for i in range(0, BITS)])\n",
    "            self.y = np.array([np.random.choice([0, 1]) for i in range(0, BITS)])\n",
    "            self.z = np.array([np.random.choice([0, 1]) for i in range(0, BITS)])\n",
    "        else:\n",
    "            self.x = args[0]\n",
    "            self.y = args[1]\n",
    "            self.z = args[2]\n",
    "\n",
    "    def __str__(self):\n",
    "        return f'\\n\\tx:{self.x} \\n\\ty:{self.y} \\n\\tz:{self.z}'\n",
    "\n",
    "\n",
    "    def to_int(self, index):\n",
    "        if index == 0:\n",
    "            signo = 1 if self.x[0] == 0 else -1\n",
    "            index = self.x[1:] == 1\n",
    "            return signo * np.sum(POWERS[index]) / DIVISION\n",
    "        elif index == 1:\n",
    "            signo = 1 if self.y[0] == 0 else -1\n",
    "            index = self.y[1:] == 1\n",
    "            return signo * np.sum(POWERS[index]) / DIVISION\n",
    "        else:\n",
    "            signo = 1 if self.z[0] == 0 else -1\n",
    "            index = self.z[1:] == 1\n",
    "            return signo * np.sum(POWERS[index]) / DIVISION\n",
    "\n",
    "    @staticmethod\n",
    "    def crossover(c1, c2):\n",
    "        mitad = int(BITS / 2)\n",
    "        x1 = np.append(c1.x[0:mitad], c2.x[mitad:], axis=None)\n",
    "        x2 = np.append(c2.x[0:mitad], c1.x[mitad:], axis=None)\n",
    "        y1 = np.append(c1.y[0:mitad], c2.y[mitad:], axis=None)\n",
    "        y2 = np.append(c2.y[0:mitad], c1.y[mitad:], axis=None)\n",
    "        z1 = np.append(c1.y[0:mitad], c2.y[mitad:], axis=None)\n",
    "        z2 = np.append(c2.y[0:mitad], c1.y[mitad:], axis=None)\n",
    "        return [Cromosoma(x1, y1, z1), Cromosoma(x2, y2, z2)]\n",
    "\n",
    "    @staticmethod\n",
    "    def mutar(c):\n",
    "        index = np.random.randint(low=1, high=len(c.x))\n",
    "        c.x[index] = 1 - c.x[index]\n",
    "        index = np.random.randint(low=1, high=len(c.y))\n",
    "        c.y[index] = 1 - c.y[index]\n",
    "        index = np.random.randint(low=1, high=len(c.z))\n",
    "        c.z[index] = 1 - c.z[index]\n",
    "        return c\n"
   ],
   "metadata": {
    "collapsed": false,
    "pycharm": {
     "name": "#%%\n"
    }
   }
  },
  {
   "cell_type": "markdown",
   "source": [
    "## Definición de presión selectiva"
   ],
   "metadata": {
    "collapsed": false
   }
  },
  {
   "cell_type": "code",
   "execution_count": 28,
   "outputs": [],
   "source": [
    "K_POBLACION = 10\n",
    "K_BASE = 2\n",
    "\n",
    "def presion_selectiva(poblacion: list[Cromosoma]) -> list[Cromosoma]:\n",
    "    # Evaluación y búsqueda del mejor\n",
    "    x = np.array([c.to_int(0) for c in poblacion])\n",
    "    y = np.array([c.to_int(1) for c in poblacion])\n",
    "    z = np.array([c.to_int(2) for c in poblacion])\n",
    "    evaluacion = rastrigin(x, y, z)\n",
    "\n",
    "    best = evaluacion.argmin()\n",
    "    print(\"Best so far:\")\n",
    "    print(\"Value: \" + str(poblacion[best]))\n",
    "    print(f\"Integer value: {x[best]}, {y[best]}, {z[best]}\")\n",
    "    print(\"Rastrigin function value: \" + str(evaluacion[best]))\n",
    "\n",
    "    # Cálculo de probabilidades\n",
    "    indice_ordenado = evaluacion.argsort()\n",
    "    ruleta = []\n",
    "    potencia = K_POBLACION\n",
    "\n",
    "    for i in indice_ordenado:\n",
    "        probabilidad = K_BASE ** potencia\n",
    "        ruleta.extend([i] * probabilidad)\n",
    "        potencia -= 1\n",
    "\n",
    "    # Nueva generación\n",
    "    nueva = list[Cromosoma]()\n",
    "    nueva.append(poblacion[indice_ordenado[0]])\n",
    "    nueva.append(poblacion[indice_ordenado[1]])\n",
    "\n",
    "    for i in range(2, int(K_POBLACION/2)):\n",
    "        c1 = poblacion[np.random.choice(ruleta)]\n",
    "        c2 = poblacion[np.random.choice(ruleta)]\n",
    "        hijos = Cromosoma.crossover(c1, c2)\n",
    "\n",
    "        hijos[0] = Cromosoma.mutar(hijos[0])\n",
    "        hijos[1] = Cromosoma.mutar(hijos[1])\n",
    "\n",
    "        nueva.extend(hijos)\n",
    "\n",
    "    return nueva"
   ],
   "metadata": {
    "collapsed": false,
    "pycharm": {
     "name": "#%%\n"
    }
   }
  },
  {
   "cell_type": "markdown",
   "source": [
    "## Ciclo de vida"
   ],
   "metadata": {
    "collapsed": false
   }
  },
  {
   "cell_type": "code",
   "execution_count": 29,
   "outputs": [],
   "source": [
    "poblacion = list[Cromosoma]()\n",
    "nueva_poblacion = list[Cromosoma]()\n",
    "generacion = 0"
   ],
   "metadata": {
    "collapsed": false,
    "pycharm": {
     "name": "#%%\n"
    }
   }
  },
  {
   "cell_type": "code",
   "execution_count": 1,
   "outputs": [
    {
     "ename": "NameError",
     "evalue": "name 'nueva_poblacion' is not defined",
     "output_type": "error",
     "traceback": [
      "\u001B[1;31m---------------------------------------------------------------------------\u001B[0m",
      "\u001B[1;31mNameError\u001B[0m                                 Traceback (most recent call last)",
      "\u001B[1;32m~\\AppData\\Local\\Temp/ipykernel_11576/2411796825.py\u001B[0m in \u001B[0;36m<module>\u001B[1;34m\u001B[0m\n\u001B[0;32m      1\u001B[0m \u001B[1;32mfor\u001B[0m \u001B[0m_\u001B[0m \u001B[1;32min\u001B[0m \u001B[0mrange\u001B[0m\u001B[1;33m(\u001B[0m\u001B[1;36m0\u001B[0m\u001B[1;33m,\u001B[0m \u001B[1;36m100\u001B[0m\u001B[1;33m)\u001B[0m\u001B[1;33m:\u001B[0m\u001B[1;33m\u001B[0m\u001B[1;33m\u001B[0m\u001B[0m\n\u001B[1;32m----> 2\u001B[1;33m     \u001B[1;32mif\u001B[0m \u001B[0mlen\u001B[0m\u001B[1;33m(\u001B[0m\u001B[0mnueva_poblacion\u001B[0m\u001B[1;33m)\u001B[0m \u001B[1;33m==\u001B[0m \u001B[1;36m0\u001B[0m\u001B[1;33m:\u001B[0m\u001B[1;33m\u001B[0m\u001B[1;33m\u001B[0m\u001B[0m\n\u001B[0m\u001B[0;32m      3\u001B[0m         \u001B[0mpoblacion\u001B[0m \u001B[1;33m=\u001B[0m \u001B[1;33m[\u001B[0m\u001B[0mCromosoma\u001B[0m\u001B[1;33m(\u001B[0m\u001B[1;33m)\u001B[0m \u001B[1;32mfor\u001B[0m \u001B[0m_\u001B[0m \u001B[1;32min\u001B[0m \u001B[0mrange\u001B[0m\u001B[1;33m(\u001B[0m\u001B[1;36m0\u001B[0m\u001B[1;33m,\u001B[0m \u001B[0mK_POBLACION\u001B[0m\u001B[1;33m)\u001B[0m\u001B[1;33m]\u001B[0m\u001B[1;33m\u001B[0m\u001B[1;33m\u001B[0m\u001B[0m\n\u001B[0;32m      4\u001B[0m     \u001B[1;32melse\u001B[0m\u001B[1;33m:\u001B[0m\u001B[1;33m\u001B[0m\u001B[1;33m\u001B[0m\u001B[0m\n\u001B[0;32m      5\u001B[0m         \u001B[0mpoblacion\u001B[0m \u001B[1;33m=\u001B[0m \u001B[0mnueva_poblacion\u001B[0m\u001B[1;33m\u001B[0m\u001B[1;33m\u001B[0m\u001B[0m\n",
      "\u001B[1;31mNameError\u001B[0m: name 'nueva_poblacion' is not defined"
     ]
    }
   ],
   "source": [
    "for _ in range(0, 100):\n",
    "    if len(nueva_poblacion) == 0:\n",
    "        poblacion = [Cromosoma() for _ in range(0, K_POBLACION)]\n",
    "    else:\n",
    "        poblacion = nueva_poblacion\n",
    "\n",
    "    print('\\nGeneración', generacion)\n",
    "    nueva_poblacion = presion_selectiva(poblacion)\n",
    "    generacion += 1"
   ],
   "metadata": {
    "collapsed": false,
    "pycharm": {
     "name": "#%%\n"
    }
   }
  }
 ],
 "metadata": {
  "kernelspec": {
   "display_name": "Python 3",
   "language": "python",
   "name": "python3"
  },
  "language_info": {
   "codemirror_mode": {
    "name": "ipython",
    "version": 2
   },
   "file_extension": ".py",
   "mimetype": "text/x-python",
   "name": "python",
   "nbconvert_exporter": "python",
   "pygments_lexer": "ipython2",
   "version": "2.7.6"
  }
 },
 "nbformat": 4,
 "nbformat_minor": 0
}