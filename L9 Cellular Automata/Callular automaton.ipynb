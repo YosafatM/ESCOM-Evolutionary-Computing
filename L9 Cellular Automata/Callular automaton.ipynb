{
 "nbformat": 4,
 "nbformat_minor": 0,
 "metadata": {
  "colab": {
   "name": "CA.ipynb",
   "provenance": [],
   "collapsed_sections": [],
   "authorship_tag": "ABX9TyNjjdQEEOdbQcDTLAEyLhHQ"
  },
  "kernelspec": {
   "name": "python3",
   "display_name": "Python 3"
  },
  "language_info": {
   "name": "python"
  },
  "widgets": {
   "application/vnd.jupyter.widget-state+json": {
    "fb3b8b9bbb8640b09b179aef2889d2f5": {
     "model_module": "@jupyter-widgets/controls",
     "model_name": "ImageModel",
     "model_module_version": "1.5.0",
     "state": {
      "_view_name": "ImageView",
      "_dom_classes": [],
      "_model_name": "ImageModel",
      "format": "png",
      "_view_module": "@jupyter-widgets/controls",
      "_model_module_version": "1.5.0",
      "_view_count": null,
      "width": "",
      "_view_module_version": "1.5.0",
      "layout": "IPY_MODEL_e427ade61ac542ae9bb37f972770ff45",
      "height": "",
      "_model_module": "@jupyter-widgets/controls"
     }
    },
    "e427ade61ac542ae9bb37f972770ff45": {
     "model_module": "@jupyter-widgets/base",
     "model_name": "LayoutModel",
     "model_module_version": "1.2.0",
     "state": {
      "_view_name": "LayoutView",
      "grid_template_rows": null,
      "right": null,
      "justify_content": null,
      "_view_module": "@jupyter-widgets/base",
      "overflow": null,
      "_model_module_version": "1.2.0",
      "_view_count": null,
      "flex_flow": null,
      "width": null,
      "min_width": null,
      "border": null,
      "align_items": null,
      "bottom": null,
      "_model_module": "@jupyter-widgets/base",
      "top": null,
      "grid_column": null,
      "overflow_y": null,
      "overflow_x": null,
      "grid_auto_flow": null,
      "grid_area": null,
      "grid_template_columns": null,
      "flex": null,
      "_model_name": "LayoutModel",
      "justify_items": null,
      "grid_row": null,
      "max_height": null,
      "align_content": null,
      "visibility": null,
      "align_self": null,
      "height": null,
      "min_height": null,
      "padding": null,
      "grid_auto_rows": null,
      "grid_gap": null,
      "max_width": null,
      "order": null,
      "_view_module_version": "1.2.0",
      "grid_template_areas": null,
      "object_position": null,
      "object_fit": null,
      "grid_auto_columns": null,
      "margin": null,
      "display": null,
      "left": null
     }
    }
   }
  }
 },
 "cells": [
  {
   "cell_type": "markdown",
   "source": [
    "# Visualización de un Autómata de Segundo y Primer orden"
   ],
   "metadata": {
    "collapsed": false
   }
  },
  {
   "cell_type": "code",
   "execution_count": null,
   "outputs": [],
   "source": [
    "# Original Title: SecondOrder1dCA.ipynb\n",
    "# Original Author: Jorge Luis Rosas Trigueros\n",
    "# Visualizes the evolution of a 1d CA with 1st and 2nd order rules\n",
    "# Last modification: 10 nov 21 20:23\n",
    "\n",
    "import cv2\n",
    "import numpy as np\n",
    "from IPython import display as display\n",
    "import ipywidgets as ipw\n",
    "import PIL\n",
    "from io import BytesIO\n",
    "from random import random"
   ],
   "metadata": {
    "collapsed": false,
    "pycharm": {
     "name": "#%%\n"
    }
   }
  },
  {
   "cell_type": "code",
   "execution_count": null,
   "outputs": [],
   "source": [
    "class Automaton:\n",
    "    def __init__(self, grid_width, neighborhood_width, rule, random_init: False, is_second_order: False):\n",
    "        self.grid_width = grid_width\n",
    "        self.neighborhood_width = neighborhood_width\n",
    "        self.is_second_order = is_second_order\n",
    "\n",
    "        self.last_iteration = grid_width * [0]\n",
    "        self.current_iteration = [0 if random()>0.5 else 1 for _ in range(grid_width)] if random_init else grid_width * [0]\n",
    "        self.new_iteration = grid_width * [0]\n",
    "\n",
    "        self.rule = (22*[0]).extend(rule)\n",
    "        self.rule = self.rule[::-1]   # Se pone al revés\n",
    "\n",
    "        self.x0 = 0\n",
    "        self.y0 = 0\n",
    "        self.maxX = 500\n",
    "        self.maxY = 500\n",
    "        self.color = (255,255,255)\n",
    "        self.margin = 1\n",
    "        self.stride = (self.maxX - 2*self.margin) / self.grid_width\n",
    "        self.wIm = ipw.Image()\n",
    "        display.display(self.wIm)\n",
    "        self.img = np.zeros((500, 500, 3), dtype=\"uint8\")\n",
    "        self.graph_cells(self.img, self.current_iteration)\n",
    "        self.y0 += self.stride\n",
    "\n",
    "\n",
    "    def apply_rule(self, neighborhood):\n",
    "        total_sum = 0\n",
    "\n",
    "        for index in range(len(neighborhood)):\n",
    "            cell = neighborhood[-(index + 1)]\n",
    "            total_sum += (2 ** index) * cell\n",
    "\n",
    "        return self.rule[total_sum]\n",
    "\n",
    "\n",
    "    def iterate(self):\n",
    "        while self.y0 <= self.maxY:\n",
    "            if self.is_second_order:\n",
    "                self.second_order_evaluation()\n",
    "            else:\n",
    "                self.second_order_evaluation()\n",
    "\n",
    "            self.graph_cells(self.img,self.last_iteration)\n",
    "            self.y0 += self.stride\n",
    "\n",
    "        pilIm = PIL.Image.fromarray(self.img, mode=\"RGB\")\n",
    "        with BytesIO() as fOut:\n",
    "            pilIm.save(fOut, format=\"png\")\n",
    "            byPng = fOut.getvalue()\n",
    "\n",
    "        self.wIm.value = byPng\n",
    "\n",
    "\n",
    "    def first_order_evaluation(self):\n",
    "        for i in range(self.neighborhood_width, self.grid_width-self.neighborhood_width):\n",
    "            self.last_iteration[i] = self.apply_rule(self.current_iteration[i-self.neighborhood_width : i+self.neighborhood_width])\n",
    "        self.current_iteration[:] = self.last_iteration[:]\n",
    "\n",
    "\n",
    "    def second_order_evaluation(self):\n",
    "        for i in range(self.neighborhood_width, self.grid_width-self.neighborhood_width):\n",
    "            self.last_iteration[i] = self.apply_rule(self.current_iteration[i-self.neighborhood_width : i+self.neighborhood_width])\n",
    "            self.last_iteration[i] = 0 if self.last_iteration[i] == self.new_iteration[i] else 1\n",
    "\n",
    "        self.new_iteration[:] = self.current_iteration[:]\n",
    "        self.current_iteration[:] = self.last_iteration[:]\n",
    "\n",
    "\n",
    "    def graph_cells(self, img, cells):\n",
    "        for i in range(self.grid_width):\n",
    "            if cells[i]:\n",
    "                start = (int(self.x0 + self.stride*i + self.margin), int(self.y0 + self.margin))\n",
    "                end = (int(self.x0 + self.stride*(i+1) - self.margin), int(self.y0 + self.stride-self.margin))\n",
    "                cv2.rectangle(img, start, end, self.color, -1)"
   ],
   "metadata": {
    "collapsed": false,
    "pycharm": {
     "name": "#%%\n"
    }
   }
  },
  {
   "cell_type": "code",
   "metadata": {
    "colab": {
     "base_uri": "https://localhost:8080/",
     "height": 543,
     "referenced_widgets": [
      "fb3b8b9bbb8640b09b179aef2889d2f5",
      "e427ade61ac542ae9bb37f972770ff45"
     ]
    },
    "id": "Ny59V5s92Kkc",
    "executionInfo": {
     "status": "ok",
     "timestamp": 1637302739087,
     "user_tz": 360,
     "elapsed": 843,
     "user": {
      "displayName": "Guillermo Ramirez Olvera",
      "photoUrl": "https://lh3.googleusercontent.com/a-/AOh14GjtItLaRjyjfnuZ2VqdjTFMQX-JVq7HExH3zgSdtw=s64",
      "userId": "08339417485685491306"
     }
    },
    "outputId": "c64e5560-7d0e-4eb3-9a8e-e6a85a4add2a"
   },
   "source": [
    "GRID_WIDTH = 100\n",
    "NEIGHBORHOOD_WIDTH = 2\n",
    "RULE = [1,1,0,1,0,0,1,0,0,0]          # Está escrita al revés\n",
    "\n",
    "automaton = Automaton(GRID_WIDTH, NEIGHBORHOOD_WIDTH, RULE, random_init=True, is_second_order=False)\n",
    "automaton.iterate()"
   ],
   "execution_count": 1,
   "outputs": [
    {
     "output_type": "stream",
     "name": "stdout",
     "text": [
      "[0, 0, 0, 1, 0, 0, 1, 0, 1, 1, 0, 0, 0, 0, 0, 0, 0, 0, 0, 0, 0, 0, 0, 0, 0, 0, 0, 0, 0, 0, 0, 0]\n"
     ]
    },
    {
     "output_type": "display_data",
     "data": {
      "application/vnd.jupyter.widget-view+json": {
       "model_id": "fb3b8b9bbb8640b09b179aef2889d2f5",
       "version_minor": 0,
       "version_major": 2
      },
      "text/plain": [
       "Image(value=b'')"
      ]
     },
     "metadata": {}
    }
   ]
  }
 ]
}