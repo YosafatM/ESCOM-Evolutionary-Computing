{
 "nbformat": 4,
 "nbformat_minor": 0,
 "metadata": {
  "colab": {
   "name": "CA.ipynb",
   "provenance": [],
   "collapsed_sections": [],
   "authorship_tag": "ABX9TyNjjdQEEOdbQcDTLAEyLhHQ"
  },
  "kernelspec": {
   "name": "python3",
   "display_name": "Python 3"
  },
  "language_info": {
   "name": "python"
  },
  "widgets": {
   "application/vnd.jupyter.widget-state+json": {
    "fb3b8b9bbb8640b09b179aef2889d2f5": {
     "model_module": "@jupyter-widgets/controls",
     "model_name": "ImageModel",
     "model_module_version": "1.5.0",
     "state": {
      "_view_name": "ImageView",
      "_dom_classes": [],
      "_model_name": "ImageModel",
      "format": "png",
      "_view_module": "@jupyter-widgets/controls",
      "_model_module_version": "1.5.0",
      "_view_count": null,
      "width": "",
      "_view_module_version": "1.5.0",
      "layout": "IPY_MODEL_e427ade61ac542ae9bb37f972770ff45",
      "height": "",
      "_model_module": "@jupyter-widgets/controls"
     }
    },
    "e427ade61ac542ae9bb37f972770ff45": {
     "model_module": "@jupyter-widgets/base",
     "model_name": "LayoutModel",
     "model_module_version": "1.2.0",
     "state": {
      "_view_name": "LayoutView",
      "grid_template_rows": null,
      "right": null,
      "justify_content": null,
      "_view_module": "@jupyter-widgets/base",
      "overflow": null,
      "_model_module_version": "1.2.0",
      "_view_count": null,
      "flex_flow": null,
      "width": null,
      "min_width": null,
      "border": null,
      "align_items": null,
      "bottom": null,
      "_model_module": "@jupyter-widgets/base",
      "top": null,
      "grid_column": null,
      "overflow_y": null,
      "overflow_x": null,
      "grid_auto_flow": null,
      "grid_area": null,
      "grid_template_columns": null,
      "flex": null,
      "_model_name": "LayoutModel",
      "justify_items": null,
      "grid_row": null,
      "max_height": null,
      "align_content": null,
      "visibility": null,
      "align_self": null,
      "height": null,
      "min_height": null,
      "padding": null,
      "grid_auto_rows": null,
      "grid_gap": null,
      "max_width": null,
      "order": null,
      "_view_module_version": "1.2.0",
      "grid_template_areas": null,
      "object_position": null,
      "object_fit": null,
      "grid_auto_columns": null,
      "margin": null,
      "display": null,
      "left": null
     }
    }
   }
  }
 },
 "cells": [
  {
   "cell_type": "code",
   "metadata": {
    "colab": {
     "base_uri": "https://localhost:8080/",
     "height": 543,
     "referenced_widgets": [
      "fb3b8b9bbb8640b09b179aef2889d2f5",
      "e427ade61ac542ae9bb37f972770ff45"
     ]
    },
    "id": "Ny59V5s92Kkc",
    "executionInfo": {
     "status": "ok",
     "timestamp": 1637302739087,
     "user_tz": 360,
     "elapsed": 843,
     "user": {
      "displayName": "Guillermo Ramirez Olvera",
      "photoUrl": "https://lh3.googleusercontent.com/a-/AOh14GjtItLaRjyjfnuZ2VqdjTFMQX-JVq7HExH3zgSdtw=s64",
      "userId": "08339417485685491306"
     }
    },
    "outputId": "c64e5560-7d0e-4eb3-9a8e-e6a85a4add2a"
   },
   "source": [
    "# Original Title: SecondOrder1dCA.ipynb\n",
    "# Original Author: Jorge Luis Rosas Trigueros\n",
    "# Visualizes the evolution of a 1d CA with 1st and 2nd order rules\n",
    "# Last modification: 10 nov 21 20:23\n",
    "\n",
    "import cv2\n",
    "import numpy as np\n",
    "from IPython import display as display\n",
    "import ipywidgets as ipw\n",
    "import PIL\n",
    "from io import BytesIO\n",
    "from random import random\n",
    "\n",
    "N = 100\n",
    "\n",
    "cells0 = N*[0]\n",
    "cells1 = N*[0]\n",
    "cells2 = N*[0]\n",
    "\n",
    "for i in range(N):\n",
    "  cells1[i]= 0 if random()>0.5 else 1\n",
    "\n",
    "ruleaux = []\n",
    "for i in range(22):\n",
    "  ruleaux.append(0)\n",
    "\n",
    "numberRule=[1,1,0,1,0,0,1,0,0,0]\n",
    "ruleaux.extend(numberRule)\n",
    "rule=ruleaux\n",
    "rule=rule[::-1]\n",
    "print(rule)\n",
    "def apply_rule(mleft,left,center,right,mright):\n",
    "  global rule\n",
    "  return rule[mright+2*right+4*center+8*left+16*mleft]\n",
    "\n",
    "\n",
    "def iteration():\n",
    "  global cells0,cells1,N\n",
    "\n",
    "  for i in range(2,N-2):\n",
    "    cells0[i]=apply_rule(cells1[i-2],cells1[i-1],cells1[i],cells1[i+1],cells1[i+2])\n",
    "  \n",
    "  cells1[:]=cells0[:]\n",
    "\n",
    "\n",
    "def iteration2nd():\n",
    "  global cells0,cells1,cells2,N\n",
    "\n",
    "  for i in range(2,N-2):\n",
    "    cells0[i]=apply_rule(cells1[i-2],cells1[i-1],cells1[i],cells1[i+1],cells1[i+2])\n",
    "    cells0[i]= 0 if cells0[i]==cells2[i] else 1\n",
    "\n",
    "  cells2[:]=cells1[:]  \n",
    "  cells1[:]=cells0[:]\n",
    "\n",
    "\n",
    "x0=0\n",
    "y0=0\n",
    "maxX=500\n",
    "maxY=500\n",
    "color=(255,255,255)\n",
    "margin=1\n",
    "stride = (maxX - 2*margin)/N\n",
    "\n",
    "\n",
    "def graph_cells(img,cells):\n",
    "  global x0,y0,maxX,maxY,margin,color,stride,N\n",
    "  r=5\n",
    "  for i in range(N):\n",
    "    if cells[i]:\n",
    "      start=(int(x0+stride*i+margin),int(y0+margin))\n",
    "      end=(int(x0+stride*(i+1)-margin), int(y0+stride-margin))\n",
    "      cv2.rectangle(img,start,end,color,-1)\n",
    "\n",
    "\n",
    "wIm = ipw.Image()\n",
    "display.display(wIm)\n",
    "\n",
    "img = np.zeros((500, 500, 3), dtype=\"uint8\")\n",
    "\n",
    "graph_cells(img,cells1)\n",
    "y0+=stride\n",
    "\n",
    "while y0<=maxY:\n",
    "  #iteration()\n",
    "  iteration2nd()\n",
    "  graph_cells(img,cells0)\n",
    "  y0+=stride\n",
    "\n",
    "pilIm = PIL.Image.fromarray(img, mode=\"RGB\")\n",
    "with BytesIO() as fOut:\n",
    "    pilIm.save(fOut, format=\"png\")\n",
    "    byPng = fOut.getvalue()\n",
    "      \n",
    "# set the png bytes as the image value; \n",
    "# this updates the image in the browser.\n",
    "wIm.value=byPng  \n"
   ],
   "execution_count": 1,
   "outputs": [
    {
     "output_type": "stream",
     "name": "stdout",
     "text": [
      "[0, 0, 0, 1, 0, 0, 1, 0, 1, 1, 0, 0, 0, 0, 0, 0, 0, 0, 0, 0, 0, 0, 0, 0, 0, 0, 0, 0, 0, 0, 0, 0]\n"
     ]
    },
    {
     "output_type": "display_data",
     "data": {
      "application/vnd.jupyter.widget-view+json": {
       "model_id": "fb3b8b9bbb8640b09b179aef2889d2f5",
       "version_minor": 0,
       "version_major": 2
      },
      "text/plain": [
       "Image(value=b'')"
      ]
     },
     "metadata": {}
    }
   ]
  }
 ]
}